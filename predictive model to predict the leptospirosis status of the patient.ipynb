{
 "cells": [
  {
   "cell_type": "code",
   "execution_count": 1,
   "id": "1ffdcf75",
   "metadata": {},
   "outputs": [],
   "source": [
    "import pandas as pd\n",
    "import numpy as np"
   ]
  },
  {
   "cell_type": "code",
   "execution_count": 2,
   "id": "4723fda7",
   "metadata": {},
   "outputs": [
    {
     "name": "stderr",
     "output_type": "stream",
     "text": [
      "C:\\Users\\shash\\AppData\\Local\\Temp\\ipykernel_115224\\1307078408.py:1: DtypeWarning: Columns (494,597,599,600,601,603,604) have mixed types. Specify dtype option on import or set low_memory=False.\n",
      "  data=pd.read_csv(\"train.csv\")\n"
     ]
    }
   ],
   "source": [
    "data=pd.read_csv(\"train.csv\")"
   ]
  },
  {
   "cell_type": "code",
   "execution_count": 3,
   "id": "7af91d32",
   "metadata": {},
   "outputs": [
    {
     "data": {
      "text/html": [
       "<div>\n",
       "<style scoped>\n",
       "    .dataframe tbody tr th:only-of-type {\n",
       "        vertical-align: middle;\n",
       "    }\n",
       "\n",
       "    .dataframe tbody tr th {\n",
       "        vertical-align: top;\n",
       "    }\n",
       "\n",
       "    .dataframe thead th {\n",
       "        text-align: right;\n",
       "    }\n",
       "</style>\n",
       "<table border=\"1\" class=\"dataframe\">\n",
       "  <thead>\n",
       "    <tr style=\"text-align: right;\">\n",
       "      <th></th>\n",
       "      <th>ID</th>\n",
       "      <th>Year</th>\n",
       "      <th>Month</th>\n",
       "      <th>Hospital</th>\n",
       "      <th>Sample</th>\n",
       "      <th>ICU</th>\n",
       "      <th>OPD</th>\n",
       "      <th>Sex</th>\n",
       "      <th>Age</th>\n",
       "      <th>Ethnicity</th>\n",
       "      <th>...</th>\n",
       "      <th>FU_L.interrogansserovarMankarsostr.Mankarso</th>\n",
       "      <th>FU_L.santarosaiserovarGeorgiastr.LT117</th>\n",
       "      <th>FU_L.santarosaiserovarPyrogenesstr.Salinem</th>\n",
       "      <th>FU_L.interrogansserovarBataviaestr.VanTienan</th>\n",
       "      <th>FU_L.interrogansserovarAlexistr.616</th>\n",
       "      <th>FU_L.interrogansserovarAustralisstr.Ballico</th>\n",
       "      <th>FU_L.interrogansserovarwolfiistr.3705</th>\n",
       "      <th>FU_L.interrogansserovarWeerasinghe</th>\n",
       "      <th>FU_Patoc</th>\n",
       "      <th>Final</th>\n",
       "    </tr>\n",
       "  </thead>\n",
       "  <tbody>\n",
       "    <tr>\n",
       "      <th>0</th>\n",
       "      <td>1</td>\n",
       "      <td>2018</td>\n",
       "      <td>11</td>\n",
       "      <td>7</td>\n",
       "      <td>1</td>\n",
       "      <td>2</td>\n",
       "      <td>2</td>\n",
       "      <td>2</td>\n",
       "      <td>53</td>\n",
       "      <td>1</td>\n",
       "      <td>...</td>\n",
       "      <td>NaN</td>\n",
       "      <td>NaN</td>\n",
       "      <td>NaN</td>\n",
       "      <td>NaN</td>\n",
       "      <td>NaN</td>\n",
       "      <td>NaN</td>\n",
       "      <td>NaN</td>\n",
       "      <td>NaN</td>\n",
       "      <td>NaN</td>\n",
       "      <td>2</td>\n",
       "    </tr>\n",
       "    <tr>\n",
       "      <th>1</th>\n",
       "      <td>2</td>\n",
       "      <td>2018</td>\n",
       "      <td>1</td>\n",
       "      <td>7</td>\n",
       "      <td>1</td>\n",
       "      <td>2</td>\n",
       "      <td>2</td>\n",
       "      <td>1</td>\n",
       "      <td>17</td>\n",
       "      <td>1</td>\n",
       "      <td>...</td>\n",
       "      <td>NaN</td>\n",
       "      <td>NaN</td>\n",
       "      <td>NaN</td>\n",
       "      <td>NaN</td>\n",
       "      <td>NaN</td>\n",
       "      <td>NaN</td>\n",
       "      <td>NaN</td>\n",
       "      <td>NaN</td>\n",
       "      <td>NaN</td>\n",
       "      <td>1</td>\n",
       "    </tr>\n",
       "    <tr>\n",
       "      <th>2</th>\n",
       "      <td>3</td>\n",
       "      <td>2018</td>\n",
       "      <td>5</td>\n",
       "      <td>7</td>\n",
       "      <td>1</td>\n",
       "      <td>2</td>\n",
       "      <td>2</td>\n",
       "      <td>1</td>\n",
       "      <td>47</td>\n",
       "      <td>1</td>\n",
       "      <td>...</td>\n",
       "      <td>NaN</td>\n",
       "      <td>NaN</td>\n",
       "      <td>NaN</td>\n",
       "      <td>NaN</td>\n",
       "      <td>NaN</td>\n",
       "      <td>NaN</td>\n",
       "      <td>NaN</td>\n",
       "      <td>NaN</td>\n",
       "      <td>NaN</td>\n",
       "      <td>2</td>\n",
       "    </tr>\n",
       "    <tr>\n",
       "      <th>3</th>\n",
       "      <td>4</td>\n",
       "      <td>2018</td>\n",
       "      <td>1</td>\n",
       "      <td>7</td>\n",
       "      <td>1</td>\n",
       "      <td>2</td>\n",
       "      <td>2</td>\n",
       "      <td>1</td>\n",
       "      <td>21</td>\n",
       "      <td>1</td>\n",
       "      <td>...</td>\n",
       "      <td>NaN</td>\n",
       "      <td>NaN</td>\n",
       "      <td>NaN</td>\n",
       "      <td>NaN</td>\n",
       "      <td>NaN</td>\n",
       "      <td>NaN</td>\n",
       "      <td>NaN</td>\n",
       "      <td>NaN</td>\n",
       "      <td>NaN</td>\n",
       "      <td>2</td>\n",
       "    </tr>\n",
       "    <tr>\n",
       "      <th>4</th>\n",
       "      <td>5</td>\n",
       "      <td>2016</td>\n",
       "      <td>8</td>\n",
       "      <td>7</td>\n",
       "      <td>1</td>\n",
       "      <td>2</td>\n",
       "      <td>1</td>\n",
       "      <td>1</td>\n",
       "      <td>99</td>\n",
       "      <td>1</td>\n",
       "      <td>...</td>\n",
       "      <td>NaN</td>\n",
       "      <td>NaN</td>\n",
       "      <td>NaN</td>\n",
       "      <td>NaN</td>\n",
       "      <td>NaN</td>\n",
       "      <td>NaN</td>\n",
       "      <td>NaN</td>\n",
       "      <td>NaN</td>\n",
       "      <td>NaN</td>\n",
       "      <td>2</td>\n",
       "    </tr>\n",
       "  </tbody>\n",
       "</table>\n",
       "<p>5 rows × 806 columns</p>\n",
       "</div>"
      ],
      "text/plain": [
       "   ID  Year  Month  Hospital  Sample  ICU  OPD  Sex  Age  Ethnicity  ...  \\\n",
       "0   1  2018     11         7       1    2    2    2   53          1  ...   \n",
       "1   2  2018      1         7       1    2    2    1   17          1  ...   \n",
       "2   3  2018      5         7       1    2    2    1   47          1  ...   \n",
       "3   4  2018      1         7       1    2    2    1   21          1  ...   \n",
       "4   5  2016      8         7       1    2    1    1   99          1  ...   \n",
       "\n",
       "   FU_L.interrogansserovarMankarsostr.Mankarso  \\\n",
       "0                                          NaN   \n",
       "1                                          NaN   \n",
       "2                                          NaN   \n",
       "3                                          NaN   \n",
       "4                                          NaN   \n",
       "\n",
       "   FU_L.santarosaiserovarGeorgiastr.LT117  \\\n",
       "0                                     NaN   \n",
       "1                                     NaN   \n",
       "2                                     NaN   \n",
       "3                                     NaN   \n",
       "4                                     NaN   \n",
       "\n",
       "   FU_L.santarosaiserovarPyrogenesstr.Salinem  \\\n",
       "0                                         NaN   \n",
       "1                                         NaN   \n",
       "2                                         NaN   \n",
       "3                                         NaN   \n",
       "4                                         NaN   \n",
       "\n",
       "   FU_L.interrogansserovarBataviaestr.VanTienan  \\\n",
       "0                                           NaN   \n",
       "1                                           NaN   \n",
       "2                                           NaN   \n",
       "3                                           NaN   \n",
       "4                                           NaN   \n",
       "\n",
       "   FU_L.interrogansserovarAlexistr.616  \\\n",
       "0                                  NaN   \n",
       "1                                  NaN   \n",
       "2                                  NaN   \n",
       "3                                  NaN   \n",
       "4                                  NaN   \n",
       "\n",
       "   FU_L.interrogansserovarAustralisstr.Ballico  \\\n",
       "0                                          NaN   \n",
       "1                                          NaN   \n",
       "2                                          NaN   \n",
       "3                                          NaN   \n",
       "4                                          NaN   \n",
       "\n",
       "   FU_L.interrogansserovarwolfiistr.3705  FU_L.interrogansserovarWeerasinghe  \\\n",
       "0                                    NaN                                 NaN   \n",
       "1                                    NaN                                 NaN   \n",
       "2                                    NaN                                 NaN   \n",
       "3                                    NaN                                 NaN   \n",
       "4                                    NaN                                 NaN   \n",
       "\n",
       "   FU_Patoc  Final  \n",
       "0       NaN      2  \n",
       "1       NaN      1  \n",
       "2       NaN      2  \n",
       "3       NaN      2  \n",
       "4       NaN      2  \n",
       "\n",
       "[5 rows x 806 columns]"
      ]
     },
     "execution_count": 3,
     "metadata": {},
     "output_type": "execute_result"
    }
   ],
   "source": [
    "data.head()"
   ]
  },
  {
   "cell_type": "code",
   "execution_count": 4,
   "id": "5f4f99fc",
   "metadata": {},
   "outputs": [
    {
     "data": {
      "text/plain": [
       "(1387, 806)"
      ]
     },
     "execution_count": 4,
     "metadata": {},
     "output_type": "execute_result"
    }
   ],
   "source": [
    "data.shape"
   ]
  },
  {
   "cell_type": "markdown",
   "id": "dcdcf8a6",
   "metadata": {},
   "source": [
    "## preprocessing"
   ]
  },
  {
   "cell_type": "code",
   "execution_count": 5,
   "id": "ab0f40b5",
   "metadata": {},
   "outputs": [],
   "source": [
    "data = data.drop('ID', axis=1)"
   ]
  },
  {
   "cell_type": "code",
   "execution_count": 6,
   "id": "f3c746ef",
   "metadata": {},
   "outputs": [],
   "source": [
    "data.replace(['99', 99], np.nan, inplace=True)"
   ]
  },
  {
   "cell_type": "code",
   "execution_count": 7,
   "id": "ae3d6946",
   "metadata": {},
   "outputs": [
    {
     "data": {
      "text/plain": [
       "Year                                            0.000000\n",
       "Month                                           0.000000\n",
       "Hospital                                        0.000000\n",
       "Sample                                          0.000000\n",
       "ICU                                             5.984138\n",
       "                                                 ...    \n",
       "FU_L.interrogansserovarAustralisstr.Ballico    91.204037\n",
       "FU_L.interrogansserovarwolfiistr.3705          91.204037\n",
       "FU_L.interrogansserovarWeerasinghe             91.204037\n",
       "FU_Patoc                                       91.204037\n",
       "Final                                           0.000000\n",
       "Length: 805, dtype: float64"
      ]
     },
     "execution_count": 7,
     "metadata": {},
     "output_type": "execute_result"
    }
   ],
   "source": [
    "data.isna().mean()*100"
   ]
  },
  {
   "cell_type": "code",
   "execution_count": 8,
   "id": "94122277",
   "metadata": {},
   "outputs": [],
   "source": [
    "col_names = {'Muscletendernessonset': 'Mustenderonset', 'Muscletendernessad':'Mustenderad', 'Vomitingadmission':'Vomitingad','Cnsuffusionad':'Consufad','Cnsuffusiononset':'Consufonset', \n",
    "             'Mucosalrashonset':'Mucorashonset','Mucosalrashad':'Mucorashad', 'Diarrhoeaonset':'diarrheaonset','Diarrhoeaad':'diarrheaad', 'OliguriaAd':'Oliguriaad', 'Haemoptasisonset':'Haemoptysisonset','Haemoptasisad':'Haemoptysisad', \"SOBadd\": 'SOBad' }\n",
    "data.rename(columns = col_names, inplace=True)"
   ]
  },
  {
   "cell_type": "code",
   "execution_count": 9,
   "id": "234a9855",
   "metadata": {},
   "outputs": [],
   "source": [
    "# combine some symtoms binary columns as counts\n",
    "\n",
    "colnames = ['Headache','Fever','Chills','Rigors','Musclepain','Mustender','Nausea','Vomiting','Consuf','Skinrash','Mucorash','Prostration','diarrhea','Oliguria','Anuria','Jaundice',\n",
    "            'Photophobia','Confusion','Cough','Haemoptysis','SOB','Chestpain','Bleeding']\n",
    "for col in colnames:\n",
    "  df = data[[col+'onset',col + '2',col + '3',col + '4',col + '5',col + '6',col + '7',col + '8',col + '9',col + '10', col + 'ad']]\n",
    "  df = df.replace(99, np.nan)\n",
    "  df['Days'] = None\n",
    "  for index, row in df.iterrows():\n",
    "    if df.loc[index].isna().all() == False:\n",
    "     df.at[index, 'Days'] = df.loc[index].eq(1).sum()\n",
    "    else:\n",
    "     df.at[index, 'Days'] = np.nan\n",
    "  data[col+'Days'] = df['Days']\n",
    "  data.drop([col+'onset',col + '2',col + '3',col + '4',col + '5',col + '6',col + '7',col + '8',col + '9',col + '10', col + 'ad'], axis=1, inplace=True)"
   ]
  },
  {
   "cell_type": "code",
   "execution_count": 10,
   "id": "9eca97b7",
   "metadata": {},
   "outputs": [
    {
     "data": {
      "text/plain": [
       "(1387, 575)"
      ]
     },
     "execution_count": 10,
     "metadata": {},
     "output_type": "execute_result"
    }
   ],
   "source": [
    "data.shape"
   ]
  },
  {
   "cell_type": "code",
   "execution_count": 11,
   "id": "9bab02fb",
   "metadata": {},
   "outputs": [],
   "source": [
    "#combine Psychoticsymptoms binary columns as counts\n",
    "\n",
    "col_names = {'Hepatictendernessad':'hepatictenderad', 'Hepatomegalyad':'hepatomegalyad', 'Spleenimegalyad':'Spleenomegalyad', 'Lympadenopathyad':'Lymphadenopathyad'}\n",
    "data.rename(columns = col_names, inplace=True)\n",
    "colnames = ['hepatictender','hepatomegaly','Spleenomegaly','Lymphadenopathy', 'Neckstiffness']\n",
    "for col in colnames:\n",
    "  df = data[[col + '2',col + '3',col + '4',col + '5',col + '6',col + '7',col + '8',col + '9',col + '10', col + 'ad']]\n",
    "  df = df.replace(99, np.nan)\n",
    "  df['Days'] = None\n",
    "  for index, row in df.iterrows():\n",
    "    if df.loc[index].isna().all() == False:\n",
    "     df.at[index, 'Days'] = df.loc[index].eq(1).sum()\n",
    "    else:\n",
    "     df.at[index, 'Days'] = np.nan\n",
    "  data[col+'Days'] = df['Days']\n",
    "  data.drop([col + '2',col + '3',col + '4',col + '5',col + '6',col + '7',col + '8',col + '9',col + '10', col + 'ad'], axis=1, inplace=True)"
   ]
  },
  {
   "cell_type": "code",
   "execution_count": 12,
   "id": "a4b3a983",
   "metadata": {},
   "outputs": [
    {
     "data": {
      "text/plain": [
       "(1387, 530)"
      ]
     },
     "execution_count": 12,
     "metadata": {},
     "output_type": "execute_result"
    }
   ],
   "source": [
    "data.shape"
   ]
  },
  {
   "cell_type": "code",
   "execution_count": 13,
   "id": "a2f6d33b",
   "metadata": {},
   "outputs": [],
   "source": [
    "#combine water area column\n",
    "\n",
    "cols = ['HomeStreamrivercanaloranyotherrunningwatersource', \n",
    "        'WorkplaceStreamrivercanaloranyotherrunningwatersource',\n",
    "        'Homepondlaketankoranyotherstagnantwatersource',\n",
    "        'WorkPlacepondlaketankoranyotherstagnantwatersource']\n",
    "       \n",
    "anyWaterArea = data[cols]\n",
    "\n",
    "def water_area(row):\n",
    "    if row.isnull().all():\n",
    "        return pd.NA\n",
    "    elif (row == 1).any():\n",
    "        return 1\n",
    "    else:\n",
    "        return 2\n",
    "\n",
    "data['anyWaterArea'] = anyWaterArea.apply(water_area, axis=1)\n",
    "\n",
    "data.drop(cols, axis = 1, inplace = True)\n",
    "\n"
   ]
  },
  {
   "cell_type": "code",
   "execution_count": 14,
   "id": "45cf1492",
   "metadata": {},
   "outputs": [
    {
     "data": {
      "text/plain": [
       "(1387, 527)"
      ]
     },
     "execution_count": 14,
     "metadata": {},
     "output_type": "execute_result"
    }
   ],
   "source": [
    "data.shape"
   ]
  },
  {
   "cell_type": "code",
   "execution_count": 15,
   "id": "148434f1",
   "metadata": {},
   "outputs": [],
   "source": [
    "missing_percentage = data.isna().mean() * 100\n",
    "\n",
    "# Determine columns to drop based on the threshold\n",
    "columns_to_drop_1 = missing_percentage[missing_percentage > 80].index\n",
    "\n",
    "# Drop columns with more than 50% missing values\n",
    "data = data.drop(columns_to_drop_1, axis=1)"
   ]
  },
  {
   "cell_type": "code",
   "execution_count": 16,
   "id": "e93c2547",
   "metadata": {},
   "outputs": [
    {
     "data": {
      "text/plain": [
       "(1387, 192)"
      ]
     },
     "execution_count": 16,
     "metadata": {},
     "output_type": "execute_result"
    }
   ],
   "source": [
    "data.shape"
   ]
  },
  {
   "cell_type": "raw",
   "id": "38f94679",
   "metadata": {},
   "source": [
    "columns_with_99_value = data.columns[data.eq('99').any()]\n",
    "\n",
    "print(columns_with_99_value)"
   ]
  },
  {
   "cell_type": "raw",
   "id": "88fa5001",
   "metadata": {},
   "source": [
    "# Calculate the percentage of '99' values in each column\n",
    "percent_99 = (data == 99).mean()\n",
    "\n",
    "# Find columns with more than 50% '99' values\n",
    "columns_with_over_50_percent_99 = percent_99[percent_99 > 0.5].index.tolist()\n",
    "\n",
    "print(columns_with_over_50_percent_99)"
   ]
  },
  {
   "cell_type": "raw",
   "id": "1c5fb9da",
   "metadata": {},
   "source": [
    "missing_percentage = (data == 99).mean()* 100\n",
    "\n",
    "# Determine columns to drop based on the threshold\n",
    "columns_to_drop_2 = missing_percentage[missing_percentage > 50].index\n",
    "\n",
    "# Drop columns with more than 50% missing values\n",
    "data = data.drop(columns_to_drop_2, axis=1)"
   ]
  },
  {
   "cell_type": "raw",
   "id": "22fba870",
   "metadata": {},
   "source": [
    "data.shape"
   ]
  },
  {
   "cell_type": "code",
   "execution_count": 17,
   "id": "0bd8c278",
   "metadata": {
    "scrolled": true
   },
   "outputs": [
    {
     "name": "stdout",
     "output_type": "stream",
     "text": [
      "<class 'pandas.core.frame.DataFrame'>\n",
      "RangeIndex: 1387 entries, 0 to 1386\n",
      "Data columns (total 192 columns):\n",
      " #    Column                                               Dtype  \n",
      "---   ------                                               -----  \n",
      " 0    Year                                                 int64  \n",
      " 1    Month                                                int64  \n",
      " 2    Hospital                                             int64  \n",
      " 3    Sample                                               int64  \n",
      " 4    ICU                                                  float64\n",
      " 5    OPD                                                  float64\n",
      " 6    Sex                                                  float64\n",
      " 7    Age                                                  float64\n",
      " 8    Ethnicity                                            float64\n",
      " 9    Income                                               float64\n",
      " 10   Education                                            float64\n",
      " 11   TertiaryEducation                                    float64\n",
      " 12   Prophylactics                                        float64\n",
      " 13   Pasttreatments                                       float64\n",
      " 14   Pastantibiotics                                      float64\n",
      " 15   Chronicillness                                       float64\n",
      " 16   Possibleexposure                                     float64\n",
      " 17   Usualdrinkingwatersource                             float64\n",
      " 18   Usualbathingwatersource                              float64\n",
      " 19   Sourceofwaterforhousehold                            float64\n",
      " 20   Garbagedisposalprocedure                             float64\n",
      " 21   Accumilationofrefusal                                float64\n",
      " 22   Availabilityofpublicgarbagecollectionprocedure       float64\n",
      " 23   Homemarshywetland                                    float64\n",
      " 24   Workplacemarshywet                                   float64\n",
      " 25   HomeBushes                                           float64\n",
      " 26   Workplacebushes                                      float64\n",
      " 27   Homeforest                                           float64\n",
      " 28   Workplaceforest                                      float64\n",
      " 29   Homeworkingpaddyfield                                float64\n",
      " 30   WorkPlaceworkingpaddyfield                           float64\n",
      " 31   Homeabondantpaddyfield                               float64\n",
      " 32   Workplaceabondantpaddyfield                          float64\n",
      " 33   Homeotheragricultural                                float64\n",
      " 34   workplaceotheragricultural                           float64\n",
      " 35   Homeanimalfarm                                       float64\n",
      " 36   Workplaceanimalfarm                                  float64\n",
      " 37   Homegarbageaccumilation                              float64\n",
      " 38   Workplacegarbageaccumilation                         float64\n",
      " 39   Homeblockeddrainage                                  float64\n",
      " 40   Workplaceblockeddrainage                             float64\n",
      " 41   Homesewer                                            float64\n",
      " 42   Workplacesewer                                       float64\n",
      " 43   Rathome                                              float64\n",
      " 44   RatWorkplace                                         float64\n",
      " 45   RatNeighbourhood                                     float64\n",
      " 46   Cathome                                              float64\n",
      " 47   Catworkplace                                         float64\n",
      " 48   CatNeighbourhood                                     float64\n",
      " 49   Doghome                                              float64\n",
      " 50   DogWorkplace                                         float64\n",
      " 51   DogNeighbourhood                                     float64\n",
      " 52   Cattlehome                                           float64\n",
      " 53   CattleWorkplace                                      float64\n",
      " 54   CattleNeighbourhood                                  float64\n",
      " 55   PigHome                                              float64\n",
      " 56   PigWorkplace                                         float64\n",
      " 57   PigNeighbourhood                                     float64\n",
      " 58   GoatHome                                             float64\n",
      " 59   GoatWorkplace                                        float64\n",
      " 60   GoatNeighbourhood                                    float64\n",
      " 61   Urumeeyahome                                         float64\n",
      " 62   Urumeeyaworkplace                                    float64\n",
      " 63   UrimeeyaNeighbourhood                                float64\n",
      " 64   OtherrhodentsHome                                    float64\n",
      " 65   Marshlandexposure                                    float64\n",
      " 66   Wetsoilexposure                                      float64\n",
      " 67   Floodexposure                                        float64\n",
      " 68   Forestexposure                                       float64\n",
      " 69   BushesExposure                                       float64\n",
      " 70   Otheragriexposure                                    float64\n",
      " 71   Gardeningexposure                                    float64\n",
      " 72   Otheroutdoorworkexposure                             float64\n",
      " 73   Naturalrunningwaterexposure                          float64\n",
      " 74   Stagnantwaterexposure                                float64\n",
      " 75   Manmaderunningwaterexposure                          float64\n",
      " 76   Drainsexposure                                       float64\n",
      " 77   Otherwaterexposure                                   float64\n",
      " 78   Paddyfieldexposure                                   float64\n",
      " 79   Walkingbarefootoutdoor                               float64\n",
      " 80   CattleHandle                                         float64\n",
      " 81   BuffaloHandle                                        float64\n",
      " 82   Goathandle                                           float64\n",
      " 83   Pighandle                                            float64\n",
      " 84   Cathandle                                            float64\n",
      " 85   Doghandle                                            float64\n",
      " 86   Psychoticsymptomsonset                               float64\n",
      " 87   Psychoticsymptomsad                                  float64\n",
      " 88   PRad                                                 float64\n",
      " 89   SBPadd                                               float64\n",
      " 90   DBPadd                                               float64\n",
      " 91   Pulserate5                                           float64\n",
      " 92   Pulserate6                                           float64\n",
      " 93   Pulserate7                                           float64\n",
      " 94   SBP4                                                 float64\n",
      " 95   DBP4                                                 float64\n",
      " 96   SBP5                                                 float64\n",
      " 97   DBP5                                                 float64\n",
      " 98   SBP6                                                 float64\n",
      " 99   DBP6                                                 float64\n",
      " 100  WBCcount                                             float64\n",
      " 101  Ncount                                               float64\n",
      " 102  N                                                    float64\n",
      " 103  Lcount                                               float64\n",
      " 104  L                                                    float64\n",
      " 105  Plateletcount                                        float64\n",
      " 106  PCV                                                  float64\n",
      " 107  RBC                                                  float64\n",
      " 108  CRP                                                  float64\n",
      " 109  ESR                                                  float64\n",
      " 110  Na                                                   float64\n",
      " 111  K                                                    float64\n",
      " 112  AST                                                  float64\n",
      " 113  ALT                                                  float64\n",
      " 114  T.Bilirubin                                          float64\n",
      " 115  S.creatinine                                         float64\n",
      " 116  B.urea                                               float64\n",
      " 117  WBC_first_day                                        float64\n",
      " 118  WBCcount4                                            float64\n",
      " 119  WBCcount5                                            float64\n",
      " 120  WBCcount6                                            float64\n",
      " 121  Ncount4                                              float64\n",
      " 122  Ncount5                                              float64\n",
      " 123  Ncount6                                              float64\n",
      " 124  N4                                                   float64\n",
      " 125  N5                                                   float64\n",
      " 126  N6                                                   float64\n",
      " 127  Lcount4                                              float64\n",
      " 128  Lcount5                                              float64\n",
      " 129  Lcount6                                              float64\n",
      " 130  L4                                                   float64\n",
      " 131  L5                                                   float64\n",
      " 132  L6                                                   float64\n",
      " 133  Platelet4                                            float64\n",
      " 134  Platelet5                                            float64\n",
      " 135  Platelet6                                            float64\n",
      " 136  PCV4                                                 float64\n",
      " 137  PCV5                                                 float64\n",
      " 138  PCV6                                                 float64\n",
      " 139  RBC4                                                 float64\n",
      " 140  RBC5                                                 float64\n",
      " 141  RBC6                                                 float64\n",
      " 142  WPqPCRDiagnosis                                      float64\n",
      " 143  UrineqPCRDiagnosis                                   float64\n",
      " 144  CultureqPCRDia                                       float64\n",
      " 145  SerumqPCRDiagnosis                                   float64\n",
      " 146  Isolate                                              int64  \n",
      " 147  MAT_set_1                                            float64\n",
      " 148  Acu_L.interrogansserovarBratislavastr.JezBratislava  float64\n",
      " 149  Acu_L.interrogansserovarAutumnalisstr.AkiyamiA       float64\n",
      " 150  Acu_L.weiliiserovarCelledonistr.Celledoni            float64\n",
      " 151  Acu_L.interrogansserovarCanicolastr.Ruebush          float64\n",
      " 152  Acu_L.interrogansserovarIcterohaemorrhagiaestr.RGA   float64\n",
      " 153  Acu_L.interrogansserovarMankarsostr.Mankarso         float64\n",
      " 154  Acu_L.santarosaiserovarGeorgiastr.LT117              float64\n",
      " 155  Acu_L.santarosaiserovarPyrogenesstr.Salinem          float64\n",
      " 156  Acu_L.interrogansserovarBataviaestr.VanTienan        float64\n",
      " 157  Acu_L.interrogansserovarAlexistr.616                 float64\n",
      " 158  Acu_L.interrogansserovarAustralisstr.Ballico         float64\n",
      " 159  Acu_L.interrogansserovarwolfiistr.3705               float64\n",
      " 160  Acu_L.interrogansserovarWeerasinghe                  float64\n",
      " 161  Acu_Patoc                                            float64\n",
      " 162  Final                                                int64  \n",
      " 163  HeadacheDays                                         object \n",
      " 164  FeverDays                                            object \n",
      " 165  ChillsDays                                           object \n",
      " 166  RigorsDays                                           object \n",
      " 167  MusclepainDays                                       object \n",
      " 168  MustenderDays                                        object \n",
      " 169  NauseaDays                                           object \n",
      " 170  VomitingDays                                         object \n",
      " 171  ConsufDays                                           object \n",
      " 172  SkinrashDays                                         object \n",
      " 173  MucorashDays                                         object \n",
      " 174  ProstrationDays                                      object \n",
      " 175  diarrheaDays                                         object \n",
      " 176  OliguriaDays                                         object \n",
      " 177  AnuriaDays                                           object \n",
      " 178  JaundiceDays                                         object \n",
      " 179  PhotophobiaDays                                      object \n",
      " 180  ConfusionDays                                        object \n",
      " 181  CoughDays                                            object \n",
      " 182  HaemoptysisDays                                      object \n",
      " 183  SOBDays                                              object \n",
      " 184  ChestpainDays                                        object \n",
      " 185  BleedingDays                                         object \n",
      " 186  hepatictenderDays                                    object \n",
      " 187  hepatomegalyDays                                     object \n",
      " 188  SpleenomegalyDays                                    object \n",
      " 189  LymphadenopathyDays                                  object \n",
      " 190  NeckstiffnessDays                                    object \n",
      " 191  anyWaterArea                                         object \n",
      "dtypes: float64(157), int64(6), object(29)\n",
      "memory usage: 2.0+ MB\n"
     ]
    }
   ],
   "source": [
    "data.info(all)"
   ]
  },
  {
   "cell_type": "code",
   "execution_count": 18,
   "id": "3620284e",
   "metadata": {},
   "outputs": [],
   "source": [
    "cat_columns_to_convert = ['Year','Month','Hospital','Sample','ICU','OPD','Sex',\n",
    "                          'Ethnicity','Education','TertiaryEducation','Prophylactics',\n",
    "                          'Pasttreatments','Pastantibiotics','Chronicillness',\n",
    "                          'Possibleexposure','Psychoticsymptomsonset','Psychoticsymptomsad',\n",
    "                          'WPqPCRDiagnosis','Isolate','MAT_set_1','Final']\n",
    "\n",
    "data[cat_columns_to_convert] = data[cat_columns_to_convert].astype('category')\n"
   ]
  },
  {
   "cell_type": "code",
   "execution_count": 19,
   "id": "811c5aad",
   "metadata": {},
   "outputs": [
    {
     "data": {
      "text/html": [
       "<div>\n",
       "<style scoped>\n",
       "    .dataframe tbody tr th:only-of-type {\n",
       "        vertical-align: middle;\n",
       "    }\n",
       "\n",
       "    .dataframe tbody tr th {\n",
       "        vertical-align: top;\n",
       "    }\n",
       "\n",
       "    .dataframe thead th {\n",
       "        text-align: right;\n",
       "    }\n",
       "</style>\n",
       "<table border=\"1\" class=\"dataframe\">\n",
       "  <thead>\n",
       "    <tr style=\"text-align: right;\">\n",
       "      <th></th>\n",
       "      <th>Age</th>\n",
       "      <th>Income</th>\n",
       "      <th>Usualdrinkingwatersource</th>\n",
       "      <th>Usualbathingwatersource</th>\n",
       "      <th>Sourceofwaterforhousehold</th>\n",
       "      <th>Garbagedisposalprocedure</th>\n",
       "      <th>Accumilationofrefusal</th>\n",
       "      <th>Availabilityofpublicgarbagecollectionprocedure</th>\n",
       "      <th>Homemarshywetland</th>\n",
       "      <th>Workplacemarshywet</th>\n",
       "      <th>...</th>\n",
       "      <th>Acu_L.interrogansserovarIcterohaemorrhagiaestr.RGA</th>\n",
       "      <th>Acu_L.interrogansserovarMankarsostr.Mankarso</th>\n",
       "      <th>Acu_L.santarosaiserovarGeorgiastr.LT117</th>\n",
       "      <th>Acu_L.santarosaiserovarPyrogenesstr.Salinem</th>\n",
       "      <th>Acu_L.interrogansserovarBataviaestr.VanTienan</th>\n",
       "      <th>Acu_L.interrogansserovarAlexistr.616</th>\n",
       "      <th>Acu_L.interrogansserovarAustralisstr.Ballico</th>\n",
       "      <th>Acu_L.interrogansserovarwolfiistr.3705</th>\n",
       "      <th>Acu_L.interrogansserovarWeerasinghe</th>\n",
       "      <th>Acu_Patoc</th>\n",
       "    </tr>\n",
       "  </thead>\n",
       "  <tbody>\n",
       "    <tr>\n",
       "      <th>count</th>\n",
       "      <td>1217.000000</td>\n",
       "      <td>851.000000</td>\n",
       "      <td>421.000000</td>\n",
       "      <td>423.000000</td>\n",
       "      <td>421.000000</td>\n",
       "      <td>420.000000</td>\n",
       "      <td>421.000000</td>\n",
       "      <td>401.000000</td>\n",
       "      <td>408.000000</td>\n",
       "      <td>334.000000</td>\n",
       "      <td>...</td>\n",
       "      <td>311.000000</td>\n",
       "      <td>311.000000</td>\n",
       "      <td>311.000000</td>\n",
       "      <td>311.000000</td>\n",
       "      <td>311.000000</td>\n",
       "      <td>311.000000</td>\n",
       "      <td>311.000000</td>\n",
       "      <td>311.000000</td>\n",
       "      <td>311.000000</td>\n",
       "      <td>311.000000</td>\n",
       "    </tr>\n",
       "    <tr>\n",
       "      <th>mean</th>\n",
       "      <td>42.955629</td>\n",
       "      <td>38142.184489</td>\n",
       "      <td>4.349169</td>\n",
       "      <td>3.612293</td>\n",
       "      <td>2.945368</td>\n",
       "      <td>2.497619</td>\n",
       "      <td>1.843230</td>\n",
       "      <td>1.890274</td>\n",
       "      <td>1.799020</td>\n",
       "      <td>1.778443</td>\n",
       "      <td>...</td>\n",
       "      <td>3.697749</td>\n",
       "      <td>2.090032</td>\n",
       "      <td>8.360129</td>\n",
       "      <td>1.768489</td>\n",
       "      <td>2.411576</td>\n",
       "      <td>2.411576</td>\n",
       "      <td>1.446945</td>\n",
       "      <td>0.643087</td>\n",
       "      <td>4.501608</td>\n",
       "      <td>1.768489</td>\n",
       "    </tr>\n",
       "    <tr>\n",
       "      <th>std</th>\n",
       "      <td>14.867828</td>\n",
       "      <td>25581.767906</td>\n",
       "      <td>2.642002</td>\n",
       "      <td>1.975211</td>\n",
       "      <td>1.541292</td>\n",
       "      <td>1.466408</td>\n",
       "      <td>0.364016</td>\n",
       "      <td>0.312938</td>\n",
       "      <td>0.401225</td>\n",
       "      <td>0.415917</td>\n",
       "      <td>...</td>\n",
       "      <td>13.105969</td>\n",
       "      <td>10.022793</td>\n",
       "      <td>46.429401</td>\n",
       "      <td>9.250515</td>\n",
       "      <td>23.806432</td>\n",
       "      <td>10.730018</td>\n",
       "      <td>8.395251</td>\n",
       "      <td>5.642975</td>\n",
       "      <td>33.297183</td>\n",
       "      <td>9.250515</td>\n",
       "    </tr>\n",
       "    <tr>\n",
       "      <th>min</th>\n",
       "      <td>2.000000</td>\n",
       "      <td>3000.000000</td>\n",
       "      <td>1.000000</td>\n",
       "      <td>1.000000</td>\n",
       "      <td>1.000000</td>\n",
       "      <td>1.000000</td>\n",
       "      <td>1.000000</td>\n",
       "      <td>1.000000</td>\n",
       "      <td>1.000000</td>\n",
       "      <td>1.000000</td>\n",
       "      <td>...</td>\n",
       "      <td>0.000000</td>\n",
       "      <td>0.000000</td>\n",
       "      <td>0.000000</td>\n",
       "      <td>0.000000</td>\n",
       "      <td>0.000000</td>\n",
       "      <td>0.000000</td>\n",
       "      <td>0.000000</td>\n",
       "      <td>0.000000</td>\n",
       "      <td>0.000000</td>\n",
       "      <td>0.000000</td>\n",
       "    </tr>\n",
       "    <tr>\n",
       "      <th>25%</th>\n",
       "      <td>32.000000</td>\n",
       "      <td>25000.000000</td>\n",
       "      <td>2.000000</td>\n",
       "      <td>2.000000</td>\n",
       "      <td>2.000000</td>\n",
       "      <td>2.000000</td>\n",
       "      <td>2.000000</td>\n",
       "      <td>2.000000</td>\n",
       "      <td>2.000000</td>\n",
       "      <td>2.000000</td>\n",
       "      <td>...</td>\n",
       "      <td>0.000000</td>\n",
       "      <td>0.000000</td>\n",
       "      <td>0.000000</td>\n",
       "      <td>0.000000</td>\n",
       "      <td>0.000000</td>\n",
       "      <td>0.000000</td>\n",
       "      <td>0.000000</td>\n",
       "      <td>0.000000</td>\n",
       "      <td>0.000000</td>\n",
       "      <td>0.000000</td>\n",
       "    </tr>\n",
       "    <tr>\n",
       "      <th>50%</th>\n",
       "      <td>43.000000</td>\n",
       "      <td>30000.000000</td>\n",
       "      <td>4.000000</td>\n",
       "      <td>4.000000</td>\n",
       "      <td>2.000000</td>\n",
       "      <td>2.000000</td>\n",
       "      <td>2.000000</td>\n",
       "      <td>2.000000</td>\n",
       "      <td>2.000000</td>\n",
       "      <td>2.000000</td>\n",
       "      <td>...</td>\n",
       "      <td>0.000000</td>\n",
       "      <td>0.000000</td>\n",
       "      <td>0.000000</td>\n",
       "      <td>0.000000</td>\n",
       "      <td>0.000000</td>\n",
       "      <td>0.000000</td>\n",
       "      <td>0.000000</td>\n",
       "      <td>0.000000</td>\n",
       "      <td>0.000000</td>\n",
       "      <td>0.000000</td>\n",
       "    </tr>\n",
       "    <tr>\n",
       "      <th>75%</th>\n",
       "      <td>55.000000</td>\n",
       "      <td>45000.000000</td>\n",
       "      <td>8.000000</td>\n",
       "      <td>5.000000</td>\n",
       "      <td>4.000000</td>\n",
       "      <td>3.000000</td>\n",
       "      <td>2.000000</td>\n",
       "      <td>2.000000</td>\n",
       "      <td>2.000000</td>\n",
       "      <td>2.000000</td>\n",
       "      <td>...</td>\n",
       "      <td>0.000000</td>\n",
       "      <td>0.000000</td>\n",
       "      <td>0.000000</td>\n",
       "      <td>0.000000</td>\n",
       "      <td>0.000000</td>\n",
       "      <td>0.000000</td>\n",
       "      <td>0.000000</td>\n",
       "      <td>0.000000</td>\n",
       "      <td>0.000000</td>\n",
       "      <td>0.000000</td>\n",
       "    </tr>\n",
       "    <tr>\n",
       "      <th>max</th>\n",
       "      <td>87.000000</td>\n",
       "      <td>350000.000000</td>\n",
       "      <td>8.000000</td>\n",
       "      <td>8.000000</td>\n",
       "      <td>8.000000</td>\n",
       "      <td>7.000000</td>\n",
       "      <td>2.000000</td>\n",
       "      <td>2.000000</td>\n",
       "      <td>2.000000</td>\n",
       "      <td>2.000000</td>\n",
       "      <td>...</td>\n",
       "      <td>50.000000</td>\n",
       "      <td>50.000000</td>\n",
       "      <td>400.000000</td>\n",
       "      <td>50.000000</td>\n",
       "      <td>400.000000</td>\n",
       "      <td>50.000000</td>\n",
       "      <td>50.000000</td>\n",
       "      <td>50.000000</td>\n",
       "      <td>400.000000</td>\n",
       "      <td>50.000000</td>\n",
       "    </tr>\n",
       "  </tbody>\n",
       "</table>\n",
       "<p>8 rows × 142 columns</p>\n",
       "</div>"
      ],
      "text/plain": [
       "               Age         Income  Usualdrinkingwatersource  \\\n",
       "count  1217.000000     851.000000                421.000000   \n",
       "mean     42.955629   38142.184489                  4.349169   \n",
       "std      14.867828   25581.767906                  2.642002   \n",
       "min       2.000000    3000.000000                  1.000000   \n",
       "25%      32.000000   25000.000000                  2.000000   \n",
       "50%      43.000000   30000.000000                  4.000000   \n",
       "75%      55.000000   45000.000000                  8.000000   \n",
       "max      87.000000  350000.000000                  8.000000   \n",
       "\n",
       "       Usualbathingwatersource  Sourceofwaterforhousehold  \\\n",
       "count               423.000000                 421.000000   \n",
       "mean                  3.612293                   2.945368   \n",
       "std                   1.975211                   1.541292   \n",
       "min                   1.000000                   1.000000   \n",
       "25%                   2.000000                   2.000000   \n",
       "50%                   4.000000                   2.000000   \n",
       "75%                   5.000000                   4.000000   \n",
       "max                   8.000000                   8.000000   \n",
       "\n",
       "       Garbagedisposalprocedure  Accumilationofrefusal  \\\n",
       "count                420.000000             421.000000   \n",
       "mean                   2.497619               1.843230   \n",
       "std                    1.466408               0.364016   \n",
       "min                    1.000000               1.000000   \n",
       "25%                    2.000000               2.000000   \n",
       "50%                    2.000000               2.000000   \n",
       "75%                    3.000000               2.000000   \n",
       "max                    7.000000               2.000000   \n",
       "\n",
       "       Availabilityofpublicgarbagecollectionprocedure  Homemarshywetland  \\\n",
       "count                                      401.000000         408.000000   \n",
       "mean                                         1.890274           1.799020   \n",
       "std                                          0.312938           0.401225   \n",
       "min                                          1.000000           1.000000   \n",
       "25%                                          2.000000           2.000000   \n",
       "50%                                          2.000000           2.000000   \n",
       "75%                                          2.000000           2.000000   \n",
       "max                                          2.000000           2.000000   \n",
       "\n",
       "       Workplacemarshywet  ...  \\\n",
       "count          334.000000  ...   \n",
       "mean             1.778443  ...   \n",
       "std              0.415917  ...   \n",
       "min              1.000000  ...   \n",
       "25%              2.000000  ...   \n",
       "50%              2.000000  ...   \n",
       "75%              2.000000  ...   \n",
       "max              2.000000  ...   \n",
       "\n",
       "       Acu_L.interrogansserovarIcterohaemorrhagiaestr.RGA  \\\n",
       "count                                         311.000000    \n",
       "mean                                            3.697749    \n",
       "std                                            13.105969    \n",
       "min                                             0.000000    \n",
       "25%                                             0.000000    \n",
       "50%                                             0.000000    \n",
       "75%                                             0.000000    \n",
       "max                                            50.000000    \n",
       "\n",
       "       Acu_L.interrogansserovarMankarsostr.Mankarso  \\\n",
       "count                                    311.000000   \n",
       "mean                                       2.090032   \n",
       "std                                       10.022793   \n",
       "min                                        0.000000   \n",
       "25%                                        0.000000   \n",
       "50%                                        0.000000   \n",
       "75%                                        0.000000   \n",
       "max                                       50.000000   \n",
       "\n",
       "       Acu_L.santarosaiserovarGeorgiastr.LT117  \\\n",
       "count                               311.000000   \n",
       "mean                                  8.360129   \n",
       "std                                  46.429401   \n",
       "min                                   0.000000   \n",
       "25%                                   0.000000   \n",
       "50%                                   0.000000   \n",
       "75%                                   0.000000   \n",
       "max                                 400.000000   \n",
       "\n",
       "       Acu_L.santarosaiserovarPyrogenesstr.Salinem  \\\n",
       "count                                   311.000000   \n",
       "mean                                      1.768489   \n",
       "std                                       9.250515   \n",
       "min                                       0.000000   \n",
       "25%                                       0.000000   \n",
       "50%                                       0.000000   \n",
       "75%                                       0.000000   \n",
       "max                                      50.000000   \n",
       "\n",
       "       Acu_L.interrogansserovarBataviaestr.VanTienan  \\\n",
       "count                                     311.000000   \n",
       "mean                                        2.411576   \n",
       "std                                        23.806432   \n",
       "min                                         0.000000   \n",
       "25%                                         0.000000   \n",
       "50%                                         0.000000   \n",
       "75%                                         0.000000   \n",
       "max                                       400.000000   \n",
       "\n",
       "       Acu_L.interrogansserovarAlexistr.616  \\\n",
       "count                            311.000000   \n",
       "mean                               2.411576   \n",
       "std                               10.730018   \n",
       "min                                0.000000   \n",
       "25%                                0.000000   \n",
       "50%                                0.000000   \n",
       "75%                                0.000000   \n",
       "max                               50.000000   \n",
       "\n",
       "       Acu_L.interrogansserovarAustralisstr.Ballico  \\\n",
       "count                                    311.000000   \n",
       "mean                                       1.446945   \n",
       "std                                        8.395251   \n",
       "min                                        0.000000   \n",
       "25%                                        0.000000   \n",
       "50%                                        0.000000   \n",
       "75%                                        0.000000   \n",
       "max                                       50.000000   \n",
       "\n",
       "       Acu_L.interrogansserovarwolfiistr.3705  \\\n",
       "count                              311.000000   \n",
       "mean                                 0.643087   \n",
       "std                                  5.642975   \n",
       "min                                  0.000000   \n",
       "25%                                  0.000000   \n",
       "50%                                  0.000000   \n",
       "75%                                  0.000000   \n",
       "max                                 50.000000   \n",
       "\n",
       "       Acu_L.interrogansserovarWeerasinghe   Acu_Patoc  \n",
       "count                           311.000000  311.000000  \n",
       "mean                              4.501608    1.768489  \n",
       "std                              33.297183    9.250515  \n",
       "min                               0.000000    0.000000  \n",
       "25%                               0.000000    0.000000  \n",
       "50%                               0.000000    0.000000  \n",
       "75%                               0.000000    0.000000  \n",
       "max                             400.000000   50.000000  \n",
       "\n",
       "[8 rows x 142 columns]"
      ]
     },
     "execution_count": 19,
     "metadata": {},
     "output_type": "execute_result"
    }
   ],
   "source": [
    "data.describe()"
   ]
  },
  {
   "cell_type": "markdown",
   "id": "9a2c2f1f",
   "metadata": {},
   "source": [
    "## impute missing values "
   ]
  },
  {
   "cell_type": "code",
   "execution_count": 20,
   "id": "d2af4db1",
   "metadata": {},
   "outputs": [
    {
     "data": {
      "text/plain": [
       "Year                     0\n",
       "Month                    0\n",
       "Hospital                 0\n",
       "Sample                   0\n",
       "ICU                     83\n",
       "                      ... \n",
       "hepatomegalyDays       408\n",
       "SpleenomegalyDays      410\n",
       "LymphadenopathyDays    410\n",
       "NeckstiffnessDays      371\n",
       "anyWaterArea           975\n",
       "Length: 192, dtype: int64"
      ]
     },
     "execution_count": 20,
     "metadata": {},
     "output_type": "execute_result"
    }
   ],
   "source": [
    "data.isna().sum()"
   ]
  },
  {
   "cell_type": "code",
   "execution_count": 21,
   "id": "a3cdb569",
   "metadata": {},
   "outputs": [
    {
     "name": "stdout",
     "output_type": "stream",
     "text": [
      "Index(['ICU', 'OPD', 'Sex', 'Age', 'Ethnicity', 'Income', 'Education',\n",
      "       'TertiaryEducation', 'Prophylactics', 'Pasttreatments',\n",
      "       ...\n",
      "       'HaemoptysisDays', 'SOBDays', 'ChestpainDays', 'BleedingDays',\n",
      "       'hepatictenderDays', 'hepatomegalyDays', 'SpleenomegalyDays',\n",
      "       'LymphadenopathyDays', 'NeckstiffnessDays', 'anyWaterArea'],\n",
      "      dtype='object', length=186)\n"
     ]
    }
   ],
   "source": [
    "columns_with_missing_values = data.columns[data.isna().any()]\n",
    "\n",
    "print(columns_with_missing_values)\n"
   ]
  },
  {
   "cell_type": "code",
   "execution_count": 22,
   "id": "ae38f514",
   "metadata": {},
   "outputs": [],
   "source": [
    "impute_train= data.copy()\n",
    "\n",
    "impute_train = impute_train.fillna(impute_train.mode().iloc[0])\n"
   ]
  },
  {
   "cell_type": "code",
   "execution_count": 23,
   "id": "a7965304",
   "metadata": {},
   "outputs": [
    {
     "name": "stdout",
     "output_type": "stream",
     "text": [
      "Index([], dtype='object')\n"
     ]
    }
   ],
   "source": [
    "columns_with_missing_values = impute_train.columns[impute_train.isna().any()]\n",
    "\n",
    "print(columns_with_missing_values)\n"
   ]
  },
  {
   "cell_type": "code",
   "execution_count": 24,
   "id": "8c90b75f",
   "metadata": {},
   "outputs": [
    {
     "data": {
      "text/plain": [
       "Year                   0\n",
       "Month                  0\n",
       "Hospital               0\n",
       "Sample                 0\n",
       "ICU                    0\n",
       "                      ..\n",
       "hepatomegalyDays       0\n",
       "SpleenomegalyDays      0\n",
       "LymphadenopathyDays    0\n",
       "NeckstiffnessDays      0\n",
       "anyWaterArea           0\n",
       "Length: 192, dtype: int64"
      ]
     },
     "execution_count": 24,
     "metadata": {},
     "output_type": "execute_result"
    }
   ],
   "source": [
    "impute_train.isna().sum()"
   ]
  },
  {
   "cell_type": "code",
   "execution_count": 25,
   "id": "528aa1d6",
   "metadata": {},
   "outputs": [
    {
     "name": "stdout",
     "output_type": "stream",
     "text": [
      "<class 'pandas.core.frame.DataFrame'>\n",
      "RangeIndex: 1387 entries, 0 to 1386\n",
      "Data columns (total 192 columns):\n",
      " #    Column                                               Dtype   \n",
      "---   ------                                               -----   \n",
      " 0    Year                                                 category\n",
      " 1    Month                                                category\n",
      " 2    Hospital                                             category\n",
      " 3    Sample                                               category\n",
      " 4    ICU                                                  category\n",
      " 5    OPD                                                  category\n",
      " 6    Sex                                                  category\n",
      " 7    Age                                                  float64 \n",
      " 8    Ethnicity                                            category\n",
      " 9    Income                                               float64 \n",
      " 10   Education                                            category\n",
      " 11   TertiaryEducation                                    category\n",
      " 12   Prophylactics                                        category\n",
      " 13   Pasttreatments                                       category\n",
      " 14   Pastantibiotics                                      category\n",
      " 15   Chronicillness                                       category\n",
      " 16   Possibleexposure                                     category\n",
      " 17   Usualdrinkingwatersource                             float64 \n",
      " 18   Usualbathingwatersource                              float64 \n",
      " 19   Sourceofwaterforhousehold                            float64 \n",
      " 20   Garbagedisposalprocedure                             float64 \n",
      " 21   Accumilationofrefusal                                float64 \n",
      " 22   Availabilityofpublicgarbagecollectionprocedure       float64 \n",
      " 23   Homemarshywetland                                    float64 \n",
      " 24   Workplacemarshywet                                   float64 \n",
      " 25   HomeBushes                                           float64 \n",
      " 26   Workplacebushes                                      float64 \n",
      " 27   Homeforest                                           float64 \n",
      " 28   Workplaceforest                                      float64 \n",
      " 29   Homeworkingpaddyfield                                float64 \n",
      " 30   WorkPlaceworkingpaddyfield                           float64 \n",
      " 31   Homeabondantpaddyfield                               float64 \n",
      " 32   Workplaceabondantpaddyfield                          float64 \n",
      " 33   Homeotheragricultural                                float64 \n",
      " 34   workplaceotheragricultural                           float64 \n",
      " 35   Homeanimalfarm                                       float64 \n",
      " 36   Workplaceanimalfarm                                  float64 \n",
      " 37   Homegarbageaccumilation                              float64 \n",
      " 38   Workplacegarbageaccumilation                         float64 \n",
      " 39   Homeblockeddrainage                                  float64 \n",
      " 40   Workplaceblockeddrainage                             float64 \n",
      " 41   Homesewer                                            float64 \n",
      " 42   Workplacesewer                                       float64 \n",
      " 43   Rathome                                              float64 \n",
      " 44   RatWorkplace                                         float64 \n",
      " 45   RatNeighbourhood                                     float64 \n",
      " 46   Cathome                                              float64 \n",
      " 47   Catworkplace                                         float64 \n",
      " 48   CatNeighbourhood                                     float64 \n",
      " 49   Doghome                                              float64 \n",
      " 50   DogWorkplace                                         float64 \n",
      " 51   DogNeighbourhood                                     float64 \n",
      " 52   Cattlehome                                           float64 \n",
      " 53   CattleWorkplace                                      float64 \n",
      " 54   CattleNeighbourhood                                  float64 \n",
      " 55   PigHome                                              float64 \n",
      " 56   PigWorkplace                                         float64 \n",
      " 57   PigNeighbourhood                                     float64 \n",
      " 58   GoatHome                                             float64 \n",
      " 59   GoatWorkplace                                        float64 \n",
      " 60   GoatNeighbourhood                                    float64 \n",
      " 61   Urumeeyahome                                         float64 \n",
      " 62   Urumeeyaworkplace                                    float64 \n",
      " 63   UrimeeyaNeighbourhood                                float64 \n",
      " 64   OtherrhodentsHome                                    float64 \n",
      " 65   Marshlandexposure                                    float64 \n",
      " 66   Wetsoilexposure                                      float64 \n",
      " 67   Floodexposure                                        float64 \n",
      " 68   Forestexposure                                       float64 \n",
      " 69   BushesExposure                                       float64 \n",
      " 70   Otheragriexposure                                    float64 \n",
      " 71   Gardeningexposure                                    float64 \n",
      " 72   Otheroutdoorworkexposure                             float64 \n",
      " 73   Naturalrunningwaterexposure                          float64 \n",
      " 74   Stagnantwaterexposure                                float64 \n",
      " 75   Manmaderunningwaterexposure                          float64 \n",
      " 76   Drainsexposure                                       float64 \n",
      " 77   Otherwaterexposure                                   float64 \n",
      " 78   Paddyfieldexposure                                   float64 \n",
      " 79   Walkingbarefootoutdoor                               float64 \n",
      " 80   CattleHandle                                         float64 \n",
      " 81   BuffaloHandle                                        float64 \n",
      " 82   Goathandle                                           float64 \n",
      " 83   Pighandle                                            float64 \n",
      " 84   Cathandle                                            float64 \n",
      " 85   Doghandle                                            float64 \n",
      " 86   Psychoticsymptomsonset                               category\n",
      " 87   Psychoticsymptomsad                                  category\n",
      " 88   PRad                                                 float64 \n",
      " 89   SBPadd                                               float64 \n",
      " 90   DBPadd                                               float64 \n",
      " 91   Pulserate5                                           float64 \n",
      " 92   Pulserate6                                           float64 \n",
      " 93   Pulserate7                                           float64 \n",
      " 94   SBP4                                                 float64 \n",
      " 95   DBP4                                                 float64 \n",
      " 96   SBP5                                                 float64 \n",
      " 97   DBP5                                                 float64 \n",
      " 98   SBP6                                                 float64 \n",
      " 99   DBP6                                                 float64 \n",
      " 100  WBCcount                                             float64 \n",
      " 101  Ncount                                               float64 \n",
      " 102  N                                                    float64 \n",
      " 103  Lcount                                               float64 \n",
      " 104  L                                                    float64 \n",
      " 105  Plateletcount                                        float64 \n",
      " 106  PCV                                                  float64 \n",
      " 107  RBC                                                  float64 \n",
      " 108  CRP                                                  float64 \n",
      " 109  ESR                                                  float64 \n",
      " 110  Na                                                   float64 \n",
      " 111  K                                                    float64 \n",
      " 112  AST                                                  float64 \n",
      " 113  ALT                                                  float64 \n",
      " 114  T.Bilirubin                                          float64 \n",
      " 115  S.creatinine                                         float64 \n",
      " 116  B.urea                                               float64 \n",
      " 117  WBC_first_day                                        float64 \n",
      " 118  WBCcount4                                            float64 \n",
      " 119  WBCcount5                                            float64 \n",
      " 120  WBCcount6                                            float64 \n",
      " 121  Ncount4                                              float64 \n",
      " 122  Ncount5                                              float64 \n",
      " 123  Ncount6                                              float64 \n",
      " 124  N4                                                   float64 \n",
      " 125  N5                                                   float64 \n",
      " 126  N6                                                   float64 \n",
      " 127  Lcount4                                              float64 \n",
      " 128  Lcount5                                              float64 \n",
      " 129  Lcount6                                              float64 \n",
      " 130  L4                                                   float64 \n",
      " 131  L5                                                   float64 \n",
      " 132  L6                                                   float64 \n",
      " 133  Platelet4                                            float64 \n",
      " 134  Platelet5                                            float64 \n",
      " 135  Platelet6                                            float64 \n",
      " 136  PCV4                                                 float64 \n",
      " 137  PCV5                                                 float64 \n",
      " 138  PCV6                                                 float64 \n",
      " 139  RBC4                                                 float64 \n",
      " 140  RBC5                                                 float64 \n",
      " 141  RBC6                                                 float64 \n",
      " 142  WPqPCRDiagnosis                                      category\n",
      " 143  UrineqPCRDiagnosis                                   float64 \n",
      " 144  CultureqPCRDia                                       float64 \n",
      " 145  SerumqPCRDiagnosis                                   float64 \n",
      " 146  Isolate                                              category\n",
      " 147  MAT_set_1                                            category\n",
      " 148  Acu_L.interrogansserovarBratislavastr.JezBratislava  float64 \n",
      " 149  Acu_L.interrogansserovarAutumnalisstr.AkiyamiA       float64 \n",
      " 150  Acu_L.weiliiserovarCelledonistr.Celledoni            float64 \n",
      " 151  Acu_L.interrogansserovarCanicolastr.Ruebush          float64 \n",
      " 152  Acu_L.interrogansserovarIcterohaemorrhagiaestr.RGA   float64 \n",
      " 153  Acu_L.interrogansserovarMankarsostr.Mankarso         float64 \n",
      " 154  Acu_L.santarosaiserovarGeorgiastr.LT117              float64 \n",
      " 155  Acu_L.santarosaiserovarPyrogenesstr.Salinem          float64 \n",
      " 156  Acu_L.interrogansserovarBataviaestr.VanTienan        float64 \n",
      " 157  Acu_L.interrogansserovarAlexistr.616                 float64 \n",
      " 158  Acu_L.interrogansserovarAustralisstr.Ballico         float64 \n",
      " 159  Acu_L.interrogansserovarwolfiistr.3705               float64 \n",
      " 160  Acu_L.interrogansserovarWeerasinghe                  float64 \n",
      " 161  Acu_Patoc                                            float64 \n",
      " 162  Final                                                category\n",
      " 163  HeadacheDays                                         int64   \n",
      " 164  FeverDays                                            int64   \n",
      " 165  ChillsDays                                           int64   \n",
      " 166  RigorsDays                                           int64   \n",
      " 167  MusclepainDays                                       int64   \n",
      " 168  MustenderDays                                        int64   \n",
      " 169  NauseaDays                                           int64   \n",
      " 170  VomitingDays                                         int64   \n",
      " 171  ConsufDays                                           int64   \n",
      " 172  SkinrashDays                                         int64   \n",
      " 173  MucorashDays                                         int64   \n",
      " 174  ProstrationDays                                      int64   \n",
      " 175  diarrheaDays                                         int64   \n",
      " 176  OliguriaDays                                         int64   \n",
      " 177  AnuriaDays                                           int64   \n",
      " 178  JaundiceDays                                         int64   \n",
      " 179  PhotophobiaDays                                      int64   \n",
      " 180  ConfusionDays                                        int64   \n",
      " 181  CoughDays                                            int64   \n",
      " 182  HaemoptysisDays                                      int64   \n",
      " 183  SOBDays                                              int64   \n",
      " 184  ChestpainDays                                        int64   \n",
      " 185  BleedingDays                                         int64   \n",
      " 186  hepatictenderDays                                    int64   \n",
      " 187  hepatomegalyDays                                     int64   \n",
      " 188  SpleenomegalyDays                                    int64   \n",
      " 189  LymphadenopathyDays                                  int64   \n",
      " 190  NeckstiffnessDays                                    int64   \n",
      " 191  anyWaterArea                                         int64   \n",
      "dtypes: category(21), float64(142), int64(29)\n",
      "memory usage: 1.8 MB\n"
     ]
    }
   ],
   "source": [
    "impute_train.info(all)"
   ]
  },
  {
   "cell_type": "raw",
   "id": "0b9d0616",
   "metadata": {},
   "source": [
    "impute_train['Redcells6'].value_counts()"
   ]
  },
  {
   "cell_type": "raw",
   "id": "6eabce9a",
   "metadata": {},
   "source": [
    "impute_train['Redcells6'].value_counts()"
   ]
  },
  {
   "cell_type": "raw",
   "id": "018cf485",
   "metadata": {},
   "source": [
    "columns_to_check = ['Redcells2', 'Redcells3', 'Redcells4', 'Redcells5', 'Redcells6', 'Redcells7', 'Redcells9','Redcells10']\n",
    "\n",
    "# Convert the specified columns to numeric, coercing non-numeric values to NaN\n",
    "impute_train[columns_to_check] = impute_train[columns_to_check].apply(pd.to_numeric, errors='coerce')\n",
    "\n",
    "# Drop rows with NaN values in the specified columns\n",
    "impute_train = impute_train.dropna(subset=columns_to_check)\n"
   ]
  },
  {
   "cell_type": "raw",
   "id": "d515afd9",
   "metadata": {},
   "source": [
    "from sklearn.preprocessing import LabelEncoder\n",
    "\n",
    "# Initialize the LabelEncoder\n",
    "label_encoder = LabelEncoder()\n",
    "\n",
    "# Apply label encoding to the 'Puscells' column\n",
    "impute_train['Puscells'] = label_encoder.fit_transform(impute_train['Puscells'])\n",
    "impute_train['Redcells'] = label_encoder.fit_transform(impute_train['Redcells'])\n"
   ]
  },
  {
   "cell_type": "code",
   "execution_count": 26,
   "id": "d5572af3",
   "metadata": {},
   "outputs": [
    {
     "name": "stdout",
     "output_type": "stream",
     "text": [
      "<class 'pandas.core.frame.DataFrame'>\n",
      "RangeIndex: 1387 entries, 0 to 1386\n",
      "Data columns (total 192 columns):\n",
      " #    Column                                               Dtype   \n",
      "---   ------                                               -----   \n",
      " 0    Year                                                 category\n",
      " 1    Month                                                category\n",
      " 2    Hospital                                             category\n",
      " 3    Sample                                               category\n",
      " 4    ICU                                                  category\n",
      " 5    OPD                                                  category\n",
      " 6    Sex                                                  category\n",
      " 7    Age                                                  float64 \n",
      " 8    Ethnicity                                            category\n",
      " 9    Income                                               float64 \n",
      " 10   Education                                            category\n",
      " 11   TertiaryEducation                                    category\n",
      " 12   Prophylactics                                        category\n",
      " 13   Pasttreatments                                       category\n",
      " 14   Pastantibiotics                                      category\n",
      " 15   Chronicillness                                       category\n",
      " 16   Possibleexposure                                     category\n",
      " 17   Usualdrinkingwatersource                             float64 \n",
      " 18   Usualbathingwatersource                              float64 \n",
      " 19   Sourceofwaterforhousehold                            float64 \n",
      " 20   Garbagedisposalprocedure                             float64 \n",
      " 21   Accumilationofrefusal                                float64 \n",
      " 22   Availabilityofpublicgarbagecollectionprocedure       float64 \n",
      " 23   Homemarshywetland                                    float64 \n",
      " 24   Workplacemarshywet                                   float64 \n",
      " 25   HomeBushes                                           float64 \n",
      " 26   Workplacebushes                                      float64 \n",
      " 27   Homeforest                                           float64 \n",
      " 28   Workplaceforest                                      float64 \n",
      " 29   Homeworkingpaddyfield                                float64 \n",
      " 30   WorkPlaceworkingpaddyfield                           float64 \n",
      " 31   Homeabondantpaddyfield                               float64 \n",
      " 32   Workplaceabondantpaddyfield                          float64 \n",
      " 33   Homeotheragricultural                                float64 \n",
      " 34   workplaceotheragricultural                           float64 \n",
      " 35   Homeanimalfarm                                       float64 \n",
      " 36   Workplaceanimalfarm                                  float64 \n",
      " 37   Homegarbageaccumilation                              float64 \n",
      " 38   Workplacegarbageaccumilation                         float64 \n",
      " 39   Homeblockeddrainage                                  float64 \n",
      " 40   Workplaceblockeddrainage                             float64 \n",
      " 41   Homesewer                                            float64 \n",
      " 42   Workplacesewer                                       float64 \n",
      " 43   Rathome                                              float64 \n",
      " 44   RatWorkplace                                         float64 \n",
      " 45   RatNeighbourhood                                     float64 \n",
      " 46   Cathome                                              float64 \n",
      " 47   Catworkplace                                         float64 \n",
      " 48   CatNeighbourhood                                     float64 \n",
      " 49   Doghome                                              float64 \n",
      " 50   DogWorkplace                                         float64 \n",
      " 51   DogNeighbourhood                                     float64 \n",
      " 52   Cattlehome                                           float64 \n",
      " 53   CattleWorkplace                                      float64 \n",
      " 54   CattleNeighbourhood                                  float64 \n",
      " 55   PigHome                                              float64 \n",
      " 56   PigWorkplace                                         float64 \n",
      " 57   PigNeighbourhood                                     float64 \n",
      " 58   GoatHome                                             float64 \n",
      " 59   GoatWorkplace                                        float64 \n",
      " 60   GoatNeighbourhood                                    float64 \n",
      " 61   Urumeeyahome                                         float64 \n",
      " 62   Urumeeyaworkplace                                    float64 \n",
      " 63   UrimeeyaNeighbourhood                                float64 \n",
      " 64   OtherrhodentsHome                                    float64 \n",
      " 65   Marshlandexposure                                    float64 \n",
      " 66   Wetsoilexposure                                      float64 \n",
      " 67   Floodexposure                                        float64 \n",
      " 68   Forestexposure                                       float64 \n",
      " 69   BushesExposure                                       float64 \n",
      " 70   Otheragriexposure                                    float64 \n",
      " 71   Gardeningexposure                                    float64 \n",
      " 72   Otheroutdoorworkexposure                             float64 \n",
      " 73   Naturalrunningwaterexposure                          float64 \n",
      " 74   Stagnantwaterexposure                                float64 \n",
      " 75   Manmaderunningwaterexposure                          float64 \n",
      " 76   Drainsexposure                                       float64 \n",
      " 77   Otherwaterexposure                                   float64 \n",
      " 78   Paddyfieldexposure                                   float64 \n",
      " 79   Walkingbarefootoutdoor                               float64 \n",
      " 80   CattleHandle                                         float64 \n",
      " 81   BuffaloHandle                                        float64 \n",
      " 82   Goathandle                                           float64 \n",
      " 83   Pighandle                                            float64 \n",
      " 84   Cathandle                                            float64 \n",
      " 85   Doghandle                                            float64 \n",
      " 86   Psychoticsymptomsonset                               category\n",
      " 87   Psychoticsymptomsad                                  category\n",
      " 88   PRad                                                 float64 \n",
      " 89   SBPadd                                               float64 \n",
      " 90   DBPadd                                               float64 \n",
      " 91   Pulserate5                                           float64 \n",
      " 92   Pulserate6                                           float64 \n",
      " 93   Pulserate7                                           float64 \n",
      " 94   SBP4                                                 float64 \n",
      " 95   DBP4                                                 float64 \n",
      " 96   SBP5                                                 float64 \n",
      " 97   DBP5                                                 float64 \n",
      " 98   SBP6                                                 float64 \n",
      " 99   DBP6                                                 float64 \n",
      " 100  WBCcount                                             float64 \n",
      " 101  Ncount                                               float64 \n",
      " 102  N                                                    float64 \n",
      " 103  Lcount                                               float64 \n",
      " 104  L                                                    float64 \n",
      " 105  Plateletcount                                        float64 \n",
      " 106  PCV                                                  float64 \n",
      " 107  RBC                                                  float64 \n",
      " 108  CRP                                                  float64 \n",
      " 109  ESR                                                  float64 \n",
      " 110  Na                                                   float64 \n",
      " 111  K                                                    float64 \n",
      " 112  AST                                                  float64 \n",
      " 113  ALT                                                  float64 \n",
      " 114  T.Bilirubin                                          float64 \n",
      " 115  S.creatinine                                         float64 \n",
      " 116  B.urea                                               float64 \n",
      " 117  WBC_first_day                                        float64 \n",
      " 118  WBCcount4                                            float64 \n",
      " 119  WBCcount5                                            float64 \n",
      " 120  WBCcount6                                            float64 \n",
      " 121  Ncount4                                              float64 \n",
      " 122  Ncount5                                              float64 \n",
      " 123  Ncount6                                              float64 \n",
      " 124  N4                                                   float64 \n",
      " 125  N5                                                   float64 \n",
      " 126  N6                                                   float64 \n",
      " 127  Lcount4                                              float64 \n",
      " 128  Lcount5                                              float64 \n",
      " 129  Lcount6                                              float64 \n",
      " 130  L4                                                   float64 \n",
      " 131  L5                                                   float64 \n",
      " 132  L6                                                   float64 \n",
      " 133  Platelet4                                            float64 \n",
      " 134  Platelet5                                            float64 \n",
      " 135  Platelet6                                            float64 \n",
      " 136  PCV4                                                 float64 \n",
      " 137  PCV5                                                 float64 \n",
      " 138  PCV6                                                 float64 \n",
      " 139  RBC4                                                 float64 \n",
      " 140  RBC5                                                 float64 \n",
      " 141  RBC6                                                 float64 \n",
      " 142  WPqPCRDiagnosis                                      category\n",
      " 143  UrineqPCRDiagnosis                                   float64 \n",
      " 144  CultureqPCRDia                                       float64 \n",
      " 145  SerumqPCRDiagnosis                                   float64 \n",
      " 146  Isolate                                              category\n",
      " 147  MAT_set_1                                            category\n",
      " 148  Acu_L.interrogansserovarBratislavastr.JezBratislava  float64 \n",
      " 149  Acu_L.interrogansserovarAutumnalisstr.AkiyamiA       float64 \n",
      " 150  Acu_L.weiliiserovarCelledonistr.Celledoni            float64 \n",
      " 151  Acu_L.interrogansserovarCanicolastr.Ruebush          float64 \n",
      " 152  Acu_L.interrogansserovarIcterohaemorrhagiaestr.RGA   float64 \n",
      " 153  Acu_L.interrogansserovarMankarsostr.Mankarso         float64 \n",
      " 154  Acu_L.santarosaiserovarGeorgiastr.LT117              float64 \n",
      " 155  Acu_L.santarosaiserovarPyrogenesstr.Salinem          float64 \n",
      " 156  Acu_L.interrogansserovarBataviaestr.VanTienan        float64 \n",
      " 157  Acu_L.interrogansserovarAlexistr.616                 float64 \n",
      " 158  Acu_L.interrogansserovarAustralisstr.Ballico         float64 \n",
      " 159  Acu_L.interrogansserovarwolfiistr.3705               float64 \n",
      " 160  Acu_L.interrogansserovarWeerasinghe                  float64 \n",
      " 161  Acu_Patoc                                            float64 \n",
      " 162  Final                                                category\n",
      " 163  HeadacheDays                                         int64   \n",
      " 164  FeverDays                                            int64   \n",
      " 165  ChillsDays                                           int64   \n",
      " 166  RigorsDays                                           int64   \n",
      " 167  MusclepainDays                                       int64   \n",
      " 168  MustenderDays                                        int64   \n",
      " 169  NauseaDays                                           int64   \n",
      " 170  VomitingDays                                         int64   \n",
      " 171  ConsufDays                                           int64   \n",
      " 172  SkinrashDays                                         int64   \n",
      " 173  MucorashDays                                         int64   \n",
      " 174  ProstrationDays                                      int64   \n",
      " 175  diarrheaDays                                         int64   \n",
      " 176  OliguriaDays                                         int64   \n",
      " 177  AnuriaDays                                           int64   \n",
      " 178  JaundiceDays                                         int64   \n",
      " 179  PhotophobiaDays                                      int64   \n",
      " 180  ConfusionDays                                        int64   \n",
      " 181  CoughDays                                            int64   \n",
      " 182  HaemoptysisDays                                      int64   \n",
      " 183  SOBDays                                              int64   \n",
      " 184  ChestpainDays                                        int64   \n",
      " 185  BleedingDays                                         int64   \n",
      " 186  hepatictenderDays                                    int64   \n",
      " 187  hepatomegalyDays                                     int64   \n",
      " 188  SpleenomegalyDays                                    int64   \n",
      " 189  LymphadenopathyDays                                  int64   \n",
      " 190  NeckstiffnessDays                                    int64   \n",
      " 191  anyWaterArea                                         int64   \n",
      "dtypes: category(21), float64(142), int64(29)\n",
      "memory usage: 1.8 MB\n"
     ]
    }
   ],
   "source": [
    "impute_train.info(all)"
   ]
  },
  {
   "cell_type": "markdown",
   "id": "b438db74",
   "metadata": {},
   "source": [
    "## models"
   ]
  },
  {
   "cell_type": "code",
   "execution_count": 27,
   "id": "662d51c2",
   "metadata": {},
   "outputs": [],
   "source": [
    "from sklearn.linear_model import LogisticRegression\n",
    "from sklearn.preprocessing import OneHotEncoder, StandardScaler\n",
    "from sklearn.compose import ColumnTransformer\n",
    "from sklearn.pipeline import Pipeline\n",
    "\n",
    "X = impute_train.drop('Final', axis = 1)\n",
    "y = impute_train['Final']\n",
    "\n",
    "categorical_cols = X.select_dtypes(include='category').columns.tolist()\n",
    "numeric_cols = X.select_dtypes(include=['Int64', 'float64']).columns.tolist()\n",
    "\n",
    "preprocessor = ColumnTransformer(\n",
    "    transformers=[\n",
    "        ('cat', OneHotEncoder(handle_unknown='ignore'), categorical_cols),\n",
    "        ('num', StandardScaler(), numeric_cols)\n",
    "    ])\n"
   ]
  },
  {
   "cell_type": "markdown",
   "id": "6af4fd79",
   "metadata": {},
   "source": [
    "### Logistic regression model"
   ]
  },
  {
   "cell_type": "code",
   "execution_count": 28,
   "id": "e176a298",
   "metadata": {},
   "outputs": [],
   "source": [
    "# Logistic regression model\n",
    "logistic_model = Pipeline(steps=[\n",
    "    ('preprocessor', preprocessor),\n",
    "    ('classifier', LogisticRegression(max_iter=1000))\n",
    "])\n"
   ]
  },
  {
   "cell_type": "code",
   "execution_count": 29,
   "id": "5c833ac1",
   "metadata": {},
   "outputs": [
    {
     "name": "stdout",
     "output_type": "stream",
     "text": [
      "Accuracy: 0.9423215573179524\n"
     ]
    }
   ],
   "source": [
    "\n",
    "from sklearn.preprocessing import LabelEncoder\n",
    "\n",
    "label_encoder = LabelEncoder()\n",
    "y_encoded = label_encoder.fit_transform(y)\n",
    "\n",
    "# Fit the model\n",
    "logistic_model.fit(X, y_encoded)\n",
    "\n",
    "# Evaluate the model\n",
    "accuracy = logistic_model.score(X, y_encoded)\n",
    "print(\"Accuracy:\", accuracy)"
   ]
  },
  {
   "cell_type": "markdown",
   "id": "5071a129",
   "metadata": {},
   "source": [
    "### Logistic regression model with Ridge regularization (L2 penalty)"
   ]
  },
  {
   "cell_type": "code",
   "execution_count": 30,
   "id": "fde0a2f5",
   "metadata": {},
   "outputs": [],
   "source": [
    "# Logistic regression model with Ridge regularization (L2 penalty)\n",
    "\n",
    "ridge_model = Pipeline(steps=[\n",
    "    ('preprocessor', preprocessor),\n",
    "    ('classifier', LogisticRegression(penalty='l2', solver='lbfgs', max_iter=2000))\n",
    "])\n"
   ]
  },
  {
   "cell_type": "code",
   "execution_count": 31,
   "id": "1a615e82",
   "metadata": {},
   "outputs": [
    {
     "name": "stdout",
     "output_type": "stream",
     "text": [
      "Accuracy: 0.9423215573179524\n"
     ]
    }
   ],
   "source": [
    "# Fit the model\n",
    "ridge_model.fit(X, y_encoded)\n",
    "\n",
    "# Evaluate the model\n",
    "accuracy = ridge_model.score(X, y_encoded)\n",
    "print(\"Accuracy:\", accuracy)"
   ]
  },
  {
   "cell_type": "markdown",
   "id": "b65c567c",
   "metadata": {},
   "source": [
    "### Logistic regression model with Lasso regularization (L1 penalty)"
   ]
  },
  {
   "cell_type": "code",
   "execution_count": 32,
   "id": "d09e96e3",
   "metadata": {},
   "outputs": [],
   "source": [
    "# Logistic regression model with Lasso regularization (L1 penalty)\n",
    "lasso_model = Pipeline(steps=[\n",
    "    ('preprocessor', preprocessor),\n",
    "    ('classifier', LogisticRegression(penalty='l1', solver='liblinear'))\n",
    "])\n"
   ]
  },
  {
   "cell_type": "code",
   "execution_count": 33,
   "id": "9e2015ef",
   "metadata": {},
   "outputs": [
    {
     "name": "stdout",
     "output_type": "stream",
     "text": [
      "Accuracy: 0.9408795962509012\n"
     ]
    }
   ],
   "source": [
    "# Fit the model\n",
    "lasso_model.fit(X, y_encoded)\n",
    "\n",
    "# Evaluate the model (optional)\n",
    "accuracy = lasso_model.score(X, y_encoded)\n",
    "print(\"Accuracy:\", accuracy)"
   ]
  },
  {
   "cell_type": "code",
   "execution_count": 34,
   "id": "50256733",
   "metadata": {},
   "outputs": [
    {
     "data": {
      "text/plain": [
       "Final\n",
       "2    928\n",
       "1    459\n",
       "Name: count, dtype: int64"
      ]
     },
     "execution_count": 34,
     "metadata": {},
     "output_type": "execute_result"
    }
   ],
   "source": [
    "impute_train['Final'].value_counts()"
   ]
  },
  {
   "cell_type": "markdown",
   "id": "d421ae42",
   "metadata": {},
   "source": [
    "## SMOTE"
   ]
  },
  {
   "cell_type": "code",
   "execution_count": 35,
   "id": "d2fce457",
   "metadata": {},
   "outputs": [
    {
     "name": "stdout",
     "output_type": "stream",
     "text": [
      "Requirement already satisfied: imbalanced-learn in c:\\users\\shash\\anaconda3\\lib\\site-packages (0.11.0)\n",
      "Requirement already satisfied: numpy>=1.17.3 in c:\\users\\shash\\anaconda3\\lib\\site-packages (from imbalanced-learn) (1.26.2)\n",
      "Requirement already satisfied: scipy>=1.5.0 in c:\\users\\shash\\anaconda3\\lib\\site-packages (from imbalanced-learn) (1.11.4)\n",
      "Requirement already satisfied: scikit-learn>=1.0.2 in c:\\users\\shash\\anaconda3\\lib\\site-packages (from imbalanced-learn) (1.4.0)\n",
      "Requirement already satisfied: joblib>=1.1.1 in c:\\users\\shash\\anaconda3\\lib\\site-packages (from imbalanced-learn) (1.2.0)\n",
      "Requirement already satisfied: threadpoolctl>=2.0.0 in c:\\users\\shash\\anaconda3\\lib\\site-packages (from imbalanced-learn) (2.2.0)\n",
      "Note: you may need to restart the kernel to use updated packages.\n"
     ]
    }
   ],
   "source": [
    "pip install imbalanced-learn"
   ]
  },
  {
   "cell_type": "code",
   "execution_count": 37,
   "id": "a39e2f2b",
   "metadata": {},
   "outputs": [
    {
     "name": "stdout",
     "output_type": "stream",
     "text": [
      "Note: you may need to restart the kernel to use updated packages.\n"
     ]
    },
    {
     "name": "stderr",
     "output_type": "stream",
     "text": [
      "WARNING: Retrying (Retry(total=4, connect=None, read=None, redirect=None, status=None)) after connection broken by 'NewConnectionError('<pip._vendor.urllib3.connection.HTTPSConnection object at 0x0000021732D89790>: Failed to establish a new connection: [Errno 11001] getaddrinfo failed')': /simple/scikit-learn/\n",
      "WARNING: Retrying (Retry(total=3, connect=None, read=None, redirect=None, status=None)) after connection broken by 'NewConnectionError('<pip._vendor.urllib3.connection.HTTPSConnection object at 0x00000217365E3990>: Failed to establish a new connection: [Errno 11001] getaddrinfo failed')': /simple/scikit-learn/\n",
      "WARNING: Retrying (Retry(total=2, connect=None, read=None, redirect=None, status=None)) after connection broken by 'NewConnectionError('<pip._vendor.urllib3.connection.HTTPSConnection object at 0x00000217365DF450>: Failed to establish a new connection: [Errno 11001] getaddrinfo failed')': /simple/scikit-learn/\n",
      "WARNING: Retrying (Retry(total=1, connect=None, read=None, redirect=None, status=None)) after connection broken by 'NewConnectionError('<pip._vendor.urllib3.connection.HTTPSConnection object at 0x00000217365BF510>: Failed to establish a new connection: [Errno 11001] getaddrinfo failed')': /simple/scikit-learn/\n",
      "WARNING: Retrying (Retry(total=0, connect=None, read=None, redirect=None, status=None)) after connection broken by 'NewConnectionError('<pip._vendor.urllib3.connection.HTTPSConnection object at 0x00000217365BF810>: Failed to establish a new connection: [Errno 11001] getaddrinfo failed')': /simple/scikit-learn/\n",
      "ERROR: Could not find a version that satisfies the requirement scikit-learn==1.2.2 (from versions: none)\n",
      "ERROR: No matching distribution found for scikit-learn==1.2.2\n"
     ]
    }
   ],
   "source": [
    "pip install scikit-learn==1.2.2"
   ]
  },
  {
   "cell_type": "code",
   "execution_count": 36,
   "id": "72344bbd",
   "metadata": {},
   "outputs": [],
   "source": [
    "from imblearn.over_sampling import SMOTE\n",
    "smote= SMOTE()"
   ]
  },
  {
   "cell_type": "code",
   "execution_count": 37,
   "id": "1e50c53a",
   "metadata": {},
   "outputs": [],
   "source": [
    "X_resampled, y_resampled =smote.fit_resample(X, y)"
   ]
  },
  {
   "cell_type": "code",
   "execution_count": 38,
   "id": "6170b4d1",
   "metadata": {},
   "outputs": [],
   "source": [
    "\n",
    "from sklearn.preprocessing import LabelEncoder\n",
    "\n",
    "label_encoder = LabelEncoder()\n",
    "y_encoded = label_encoder.fit_transform(y_resampled)\n"
   ]
  },
  {
   "cell_type": "code",
   "execution_count": 39,
   "id": "4f849440",
   "metadata": {},
   "outputs": [
    {
     "name": "stdout",
     "output_type": "stream",
     "text": [
      "Accuracy: 0.9574353448275862\n"
     ]
    }
   ],
   "source": [
    "# Fit the model\n",
    "logistic_model.fit(X_resampled, y_encoded)\n",
    "\n",
    "# Evaluate the model\n",
    "accuracy = logistic_model.score(X_resampled, y_encoded)\n",
    "print(\"Accuracy:\", accuracy)"
   ]
  },
  {
   "cell_type": "code",
   "execution_count": 40,
   "id": "8c6ab844",
   "metadata": {},
   "outputs": [
    {
     "name": "stdout",
     "output_type": "stream",
     "text": [
      "Accuracy: 0.9574353448275862\n"
     ]
    }
   ],
   "source": [
    "# Fit the model\n",
    "ridge_model.fit(X_resampled, y_encoded)\n",
    "\n",
    "# Evaluate the model\n",
    "accuracy = ridge_model.score(X_resampled, y_encoded)\n",
    "print(\"Accuracy:\", accuracy)"
   ]
  },
  {
   "cell_type": "code",
   "execution_count": 41,
   "id": "19c02e6b",
   "metadata": {},
   "outputs": [
    {
     "name": "stdout",
     "output_type": "stream",
     "text": [
      "Accuracy: 0.9563577586206896\n"
     ]
    }
   ],
   "source": [
    "# Fit the model\n",
    "lasso_model.fit(X_resampled, y_encoded)\n",
    "\n",
    "# Evaluate the model (optional)\n",
    "accuracy = lasso_model.score(X_resampled, y_encoded)\n",
    "print(\"Accuracy:\", accuracy)"
   ]
  },
  {
   "cell_type": "code",
   "execution_count": 42,
   "id": "81ee0716",
   "metadata": {},
   "outputs": [],
   "source": [
    "# smote increase the accuracy"
   ]
  },
  {
   "cell_type": "markdown",
   "id": "76dacfa4",
   "metadata": {},
   "source": [
    "# RF"
   ]
  },
  {
   "cell_type": "code",
   "execution_count": 43,
   "id": "45fdad86",
   "metadata": {},
   "outputs": [],
   "source": [
    "from sklearn.ensemble import RandomForestClassifier"
   ]
  },
  {
   "cell_type": "code",
   "execution_count": 44,
   "id": "5ca0577f",
   "metadata": {},
   "outputs": [],
   "source": [
    "# Random Forest classifier\n",
    "rf_classifier = Pipeline(steps=[\n",
    "    ('preprocessor', preprocessor),\n",
    "    ('classifier', RandomForestClassifier(n_estimators=100, random_state=42))\n",
    "])\n",
    "\n"
   ]
  },
  {
   "cell_type": "code",
   "execution_count": 45,
   "id": "7b36d73f",
   "metadata": {},
   "outputs": [
    {
     "name": "stdout",
     "output_type": "stream",
     "text": [
      "Accuracy: 0.9956896551724138\n"
     ]
    }
   ],
   "source": [
    "# Fit the model on the training data\n",
    "rf_classifier.fit(X_resampled, y_encoded)\n",
    "\n",
    "# Evaluate the model (optional)\n",
    "accuracy =rf_classifier.score(X_resampled, y_encoded)\n",
    "print(\"Accuracy:\", accuracy)"
   ]
  },
  {
   "cell_type": "code",
   "execution_count": 46,
   "id": "fab876fc",
   "metadata": {},
   "outputs": [],
   "source": [
    "from sklearn.model_selection import GridSearchCV"
   ]
  },
  {
   "cell_type": "markdown",
   "id": "aa63df07",
   "metadata": {},
   "source": [
    "# Decision tree"
   ]
  },
  {
   "cell_type": "code",
   "execution_count": 47,
   "id": "aa7ec843",
   "metadata": {},
   "outputs": [],
   "source": [
    "from sklearn.tree import DecisionTreeClassifier\n",
    "\n",
    "# Create a pipeline with the Decision Tree classifier\n",
    "decision_tree = Pipeline(steps=[\n",
    "    ('preprocessor', preprocessor),\n",
    "    ('classifier', DecisionTreeClassifier(random_state=42))\n",
    "])\n"
   ]
  },
  {
   "cell_type": "code",
   "execution_count": 48,
   "id": "04dc0320",
   "metadata": {},
   "outputs": [
    {
     "name": "stdout",
     "output_type": "stream",
     "text": [
      "Accuracy: 0.9956896551724138\n"
     ]
    }
   ],
   "source": [
    "# Fit the model on the training data\n",
    "decision_tree.fit(X_resampled, y_encoded)\n",
    "\n",
    "# Evaluate the model (optional)\n",
    "accuracy =decision_tree.score(X_resampled, y_encoded)\n",
    "print(\"Accuracy:\", accuracy)"
   ]
  },
  {
   "cell_type": "markdown",
   "id": "352b955e",
   "metadata": {},
   "source": [
    "# SVM"
   ]
  },
  {
   "cell_type": "code",
   "execution_count": 49,
   "id": "caa85f3b",
   "metadata": {},
   "outputs": [],
   "source": [
    "from sklearn.svm import SVC\n",
    "\n",
    "# Create a pipeline with preprocessing and the SVM classifier\n",
    "svm = Pipeline([\n",
    "    ('preprocessor', preprocessor),\n",
    "    ('classifier', SVC(kernel='linear', random_state=42))\n",
    "])\n",
    "\n"
   ]
  },
  {
   "cell_type": "code",
   "execution_count": 50,
   "id": "c066fa31",
   "metadata": {},
   "outputs": [
    {
     "name": "stdout",
     "output_type": "stream",
     "text": [
      "Accuracy: 0.9612068965517241\n"
     ]
    }
   ],
   "source": [
    "# Fit the pipeline on the training data\n",
    "svm.fit(X_resampled, y_encoded)\n",
    "\n",
    "# Calculate the accuracy\n",
    "accuracy = svm.score(X_resampled, y_encoded)\n",
    "print(\"Accuracy:\", accuracy)"
   ]
  },
  {
   "cell_type": "markdown",
   "id": "6a72ddc6",
   "metadata": {},
   "source": [
    "### process test data"
   ]
  },
  {
   "cell_type": "code",
   "execution_count": 51,
   "id": "037b4c1c",
   "metadata": {},
   "outputs": [],
   "source": [
    "test_data=pd.read_csv(\"test.csv\", encoding='latin1')"
   ]
  },
  {
   "cell_type": "code",
   "execution_count": 52,
   "id": "3a8026a6",
   "metadata": {},
   "outputs": [],
   "source": [
    "test=test_data.copy()"
   ]
  },
  {
   "cell_type": "code",
   "execution_count": 53,
   "id": "54dbdfa4",
   "metadata": {},
   "outputs": [
    {
     "data": {
      "text/plain": [
       "(347, 805)"
      ]
     },
     "execution_count": 53,
     "metadata": {},
     "output_type": "execute_result"
    }
   ],
   "source": [
    "test.shape"
   ]
  },
  {
   "cell_type": "code",
   "execution_count": 54,
   "id": "a0c069ed",
   "metadata": {},
   "outputs": [
    {
     "ename": "KeyError",
     "evalue": "\"['ID'] not found in axis\"",
     "output_type": "error",
     "traceback": [
      "\u001b[1;31m---------------------------------------------------------------------------\u001b[0m",
      "\u001b[1;31mKeyError\u001b[0m                                  Traceback (most recent call last)",
      "Cell \u001b[1;32mIn[54], line 1\u001b[0m\n\u001b[1;32m----> 1\u001b[0m test \u001b[38;5;241m=\u001b[39m test\u001b[38;5;241m.\u001b[39mdrop(\u001b[38;5;124m'\u001b[39m\u001b[38;5;124mID\u001b[39m\u001b[38;5;124m'\u001b[39m, axis\u001b[38;5;241m=\u001b[39m\u001b[38;5;241m1\u001b[39m)\n",
      "File \u001b[1;32m~\\anaconda3\\Lib\\site-packages\\pandas\\core\\frame.py:5344\u001b[0m, in \u001b[0;36mDataFrame.drop\u001b[1;34m(self, labels, axis, index, columns, level, inplace, errors)\u001b[0m\n\u001b[0;32m   5196\u001b[0m \u001b[38;5;28;01mdef\u001b[39;00m \u001b[38;5;21mdrop\u001b[39m(\n\u001b[0;32m   5197\u001b[0m     \u001b[38;5;28mself\u001b[39m,\n\u001b[0;32m   5198\u001b[0m     labels: IndexLabel \u001b[38;5;241m|\u001b[39m \u001b[38;5;28;01mNone\u001b[39;00m \u001b[38;5;241m=\u001b[39m \u001b[38;5;28;01mNone\u001b[39;00m,\n\u001b[1;32m   (...)\u001b[0m\n\u001b[0;32m   5205\u001b[0m     errors: IgnoreRaise \u001b[38;5;241m=\u001b[39m \u001b[38;5;124m\"\u001b[39m\u001b[38;5;124mraise\u001b[39m\u001b[38;5;124m\"\u001b[39m,\n\u001b[0;32m   5206\u001b[0m ) \u001b[38;5;241m-\u001b[39m\u001b[38;5;241m>\u001b[39m DataFrame \u001b[38;5;241m|\u001b[39m \u001b[38;5;28;01mNone\u001b[39;00m:\n\u001b[0;32m   5207\u001b[0m \u001b[38;5;250m    \u001b[39m\u001b[38;5;124;03m\"\"\"\u001b[39;00m\n\u001b[0;32m   5208\u001b[0m \u001b[38;5;124;03m    Drop specified labels from rows or columns.\u001b[39;00m\n\u001b[0;32m   5209\u001b[0m \n\u001b[1;32m   (...)\u001b[0m\n\u001b[0;32m   5342\u001b[0m \u001b[38;5;124;03m            weight  1.0     0.8\u001b[39;00m\n\u001b[0;32m   5343\u001b[0m \u001b[38;5;124;03m    \"\"\"\u001b[39;00m\n\u001b[1;32m-> 5344\u001b[0m     \u001b[38;5;28;01mreturn\u001b[39;00m \u001b[38;5;28msuper\u001b[39m()\u001b[38;5;241m.\u001b[39mdrop(\n\u001b[0;32m   5345\u001b[0m         labels\u001b[38;5;241m=\u001b[39mlabels,\n\u001b[0;32m   5346\u001b[0m         axis\u001b[38;5;241m=\u001b[39maxis,\n\u001b[0;32m   5347\u001b[0m         index\u001b[38;5;241m=\u001b[39mindex,\n\u001b[0;32m   5348\u001b[0m         columns\u001b[38;5;241m=\u001b[39mcolumns,\n\u001b[0;32m   5349\u001b[0m         level\u001b[38;5;241m=\u001b[39mlevel,\n\u001b[0;32m   5350\u001b[0m         inplace\u001b[38;5;241m=\u001b[39minplace,\n\u001b[0;32m   5351\u001b[0m         errors\u001b[38;5;241m=\u001b[39merrors,\n\u001b[0;32m   5352\u001b[0m     )\n",
      "File \u001b[1;32m~\\anaconda3\\Lib\\site-packages\\pandas\\core\\generic.py:4711\u001b[0m, in \u001b[0;36mNDFrame.drop\u001b[1;34m(self, labels, axis, index, columns, level, inplace, errors)\u001b[0m\n\u001b[0;32m   4709\u001b[0m \u001b[38;5;28;01mfor\u001b[39;00m axis, labels \u001b[38;5;129;01min\u001b[39;00m axes\u001b[38;5;241m.\u001b[39mitems():\n\u001b[0;32m   4710\u001b[0m     \u001b[38;5;28;01mif\u001b[39;00m labels \u001b[38;5;129;01mis\u001b[39;00m \u001b[38;5;129;01mnot\u001b[39;00m \u001b[38;5;28;01mNone\u001b[39;00m:\n\u001b[1;32m-> 4711\u001b[0m         obj \u001b[38;5;241m=\u001b[39m obj\u001b[38;5;241m.\u001b[39m_drop_axis(labels, axis, level\u001b[38;5;241m=\u001b[39mlevel, errors\u001b[38;5;241m=\u001b[39merrors)\n\u001b[0;32m   4713\u001b[0m \u001b[38;5;28;01mif\u001b[39;00m inplace:\n\u001b[0;32m   4714\u001b[0m     \u001b[38;5;28mself\u001b[39m\u001b[38;5;241m.\u001b[39m_update_inplace(obj)\n",
      "File \u001b[1;32m~\\anaconda3\\Lib\\site-packages\\pandas\\core\\generic.py:4753\u001b[0m, in \u001b[0;36mNDFrame._drop_axis\u001b[1;34m(self, labels, axis, level, errors, only_slice)\u001b[0m\n\u001b[0;32m   4751\u001b[0m         new_axis \u001b[38;5;241m=\u001b[39m axis\u001b[38;5;241m.\u001b[39mdrop(labels, level\u001b[38;5;241m=\u001b[39mlevel, errors\u001b[38;5;241m=\u001b[39merrors)\n\u001b[0;32m   4752\u001b[0m     \u001b[38;5;28;01melse\u001b[39;00m:\n\u001b[1;32m-> 4753\u001b[0m         new_axis \u001b[38;5;241m=\u001b[39m axis\u001b[38;5;241m.\u001b[39mdrop(labels, errors\u001b[38;5;241m=\u001b[39merrors)\n\u001b[0;32m   4754\u001b[0m     indexer \u001b[38;5;241m=\u001b[39m axis\u001b[38;5;241m.\u001b[39mget_indexer(new_axis)\n\u001b[0;32m   4756\u001b[0m \u001b[38;5;66;03m# Case for non-unique axis\u001b[39;00m\n\u001b[0;32m   4757\u001b[0m \u001b[38;5;28;01melse\u001b[39;00m:\n",
      "File \u001b[1;32m~\\anaconda3\\Lib\\site-packages\\pandas\\core\\indexes\\base.py:7000\u001b[0m, in \u001b[0;36mIndex.drop\u001b[1;34m(self, labels, errors)\u001b[0m\n\u001b[0;32m   6998\u001b[0m \u001b[38;5;28;01mif\u001b[39;00m mask\u001b[38;5;241m.\u001b[39many():\n\u001b[0;32m   6999\u001b[0m     \u001b[38;5;28;01mif\u001b[39;00m errors \u001b[38;5;241m!=\u001b[39m \u001b[38;5;124m\"\u001b[39m\u001b[38;5;124mignore\u001b[39m\u001b[38;5;124m\"\u001b[39m:\n\u001b[1;32m-> 7000\u001b[0m         \u001b[38;5;28;01mraise\u001b[39;00m \u001b[38;5;167;01mKeyError\u001b[39;00m(\u001b[38;5;124mf\u001b[39m\u001b[38;5;124m\"\u001b[39m\u001b[38;5;132;01m{\u001b[39;00mlabels[mask]\u001b[38;5;241m.\u001b[39mtolist()\u001b[38;5;132;01m}\u001b[39;00m\u001b[38;5;124m not found in axis\u001b[39m\u001b[38;5;124m\"\u001b[39m)\n\u001b[0;32m   7001\u001b[0m     indexer \u001b[38;5;241m=\u001b[39m indexer[\u001b[38;5;241m~\u001b[39mmask]\n\u001b[0;32m   7002\u001b[0m \u001b[38;5;28;01mreturn\u001b[39;00m \u001b[38;5;28mself\u001b[39m\u001b[38;5;241m.\u001b[39mdelete(indexer)\n",
      "\u001b[1;31mKeyError\u001b[0m: \"['ID'] not found in axis\""
     ]
    }
   ],
   "source": [
    "test = test.drop('ID', axis=1)"
   ]
  },
  {
   "cell_type": "code",
   "execution_count": 55,
   "id": "6679ebbf",
   "metadata": {},
   "outputs": [],
   "source": [
    "test.replace(['99', 99], np.nan, inplace=True)"
   ]
  },
  {
   "cell_type": "code",
   "execution_count": 56,
   "id": "aff0fb31",
   "metadata": {},
   "outputs": [],
   "source": [
    "col_names = {'Muscletendernessonset': 'Mustenderonset', 'Muscletendernessad':'Mustenderad', 'Vomitingadmission':'Vomitingad','Cnsuffusionad':'Consufad','Cnsuffusiononset':'Consufonset', \n",
    "             'Mucosalrashonset':'Mucorashonset','Mucosalrashad':'Mucorashad', 'Diarrhoeaonset':'diarrheaonset','Diarrhoeaad':'diarrheaad', 'OliguriaAd':'Oliguriaad', 'Haemoptasisonset':'Haemoptysisonset','Haemoptasisad':'Haemoptysisad', \"SOBadd\": 'SOBad' }\n",
    "test.rename(columns = col_names, inplace=True)"
   ]
  },
  {
   "cell_type": "code",
   "execution_count": 57,
   "id": "e7085abc",
   "metadata": {},
   "outputs": [],
   "source": [
    "# combine some symtoms binary columns as counts\n",
    "\n",
    "colnames = ['Headache','Fever','Chills','Rigors','Musclepain','Mustender','Nausea','Vomiting','Consuf','Skinrash','Mucorash','Prostration','diarrhea','Oliguria','Anuria','Jaundice',\n",
    "            'Photophobia','Confusion','Cough','Haemoptysis','SOB','Chestpain','Bleeding']\n",
    "for col in colnames:\n",
    "  df = test[[col+'onset',col + '2',col + '3',col + '4',col + '5',col + '6',col + '7',col + '8',col + '9',col + '10', col + 'ad']]\n",
    "  df = df.replace(99, np.nan)\n",
    "  df['Days'] = None\n",
    "  for index, row in df.iterrows():\n",
    "    if df.loc[index].isna().all() == False:\n",
    "     df.at[index, 'Days'] = df.loc[index].eq(1).sum()\n",
    "    else:\n",
    "     df.at[index, 'Days'] = np.nan\n",
    "  test[col+'Days'] = df['Days']\n",
    "  test.drop([col+'onset',col + '2',col + '3',col + '4',col + '5',col + '6',col + '7',col + '8',col + '9',col + '10', col + 'ad'], axis=1, inplace=True)"
   ]
  },
  {
   "cell_type": "code",
   "execution_count": 58,
   "id": "57783ef5",
   "metadata": {},
   "outputs": [
    {
     "data": {
      "text/plain": [
       "(347, 575)"
      ]
     },
     "execution_count": 58,
     "metadata": {},
     "output_type": "execute_result"
    }
   ],
   "source": [
    "test.shape"
   ]
  },
  {
   "cell_type": "code",
   "execution_count": 59,
   "id": "28a14e49",
   "metadata": {},
   "outputs": [],
   "source": [
    "#combine Psychoticsymptoms binary columns as counts\n",
    "\n",
    "col_names = {'Hepatictendernessad':'hepatictenderad', 'Hepatomegalyad':'hepatomegalyad', 'Spleenimegalyad':'Spleenomegalyad', 'Lympadenopathyad':'Lymphadenopathyad'}\n",
    "test.rename(columns = col_names, inplace=True)\n",
    "colnames = ['hepatictender','hepatomegaly','Spleenomegaly','Lymphadenopathy', 'Neckstiffness']\n",
    "for col in colnames:\n",
    "  df = test[[col + '2',col + '3',col + '4',col + '5',col + '6',col + '7',col + '8',col + '9',col + '10', col + 'ad']]\n",
    "  df = df.replace(99, np.nan)\n",
    "  df['Days'] = None\n",
    "  for index, row in df.iterrows():\n",
    "    if df.loc[index].isna().all() == False:\n",
    "     df.at[index, 'Days'] = df.loc[index].eq(1).sum()\n",
    "    else:\n",
    "     df.at[index, 'Days'] = np.nan\n",
    "  test[col+'Days'] = df['Days']\n",
    "  test.drop([col + '2',col + '3',col + '4',col + '5',col + '6',col + '7',col + '8',col + '9',col + '10', col + 'ad'], axis=1, inplace=True)"
   ]
  },
  {
   "cell_type": "code",
   "execution_count": 60,
   "id": "20c15e17",
   "metadata": {},
   "outputs": [
    {
     "data": {
      "text/plain": [
       "(347, 530)"
      ]
     },
     "execution_count": 60,
     "metadata": {},
     "output_type": "execute_result"
    }
   ],
   "source": [
    "test.shape"
   ]
  },
  {
   "cell_type": "code",
   "execution_count": 61,
   "id": "904723eb",
   "metadata": {},
   "outputs": [],
   "source": [
    "#combine water area column\n",
    "\n",
    "cols = ['HomeStreamrivercanaloranyotherrunningwatersource', \n",
    "        'WorkplaceStreamrivercanaloranyotherrunningwatersource',\n",
    "        'Homepondlaketankoranyotherstagnantwatersource',\n",
    "        'WorkPlacepondlaketankoranyotherstagnantwatersource']\n",
    "       \n",
    "anyWaterArea = test[cols]\n",
    "\n",
    "def water_area(row):\n",
    "    if row.isnull().all():\n",
    "        return pd.NA\n",
    "    elif (row == 1).any():\n",
    "        return 1\n",
    "    else:\n",
    "        return 2\n",
    "\n",
    "test['anyWaterArea'] = anyWaterArea.apply(water_area, axis=1)\n",
    "\n",
    "test.drop(cols, axis = 1, inplace = True)"
   ]
  },
  {
   "cell_type": "code",
   "execution_count": 62,
   "id": "a4269aa4",
   "metadata": {},
   "outputs": [
    {
     "data": {
      "text/plain": [
       "(347, 527)"
      ]
     },
     "execution_count": 62,
     "metadata": {},
     "output_type": "execute_result"
    }
   ],
   "source": [
    "test.shape"
   ]
  },
  {
   "cell_type": "code",
   "execution_count": 63,
   "id": "b19c053c",
   "metadata": {},
   "outputs": [],
   "source": [
    "# Drop columns with more than 50% missing values\n",
    "test = test.drop(columns_to_drop_1, axis=1)"
   ]
  },
  {
   "cell_type": "code",
   "execution_count": 64,
   "id": "5dc5644e",
   "metadata": {},
   "outputs": [],
   "source": [
    "cat_columns_to_convert = ['Year','Month','Hospital','Sample','ICU','OPD','Sex',\n",
    "                          'Ethnicity','Education','TertiaryEducation','Prophylactics',\n",
    "                          'Pasttreatments','Pastantibiotics','Chronicillness',\n",
    "                          'Possibleexposure','Psychoticsymptomsonset','Psychoticsymptomsad',\n",
    "                          'WPqPCRDiagnosis','Isolate','MAT_set_1']\n",
    "\n",
    "test[cat_columns_to_convert] = test[cat_columns_to_convert].astype('category')"
   ]
  },
  {
   "cell_type": "code",
   "execution_count": 65,
   "id": "797bf0b5",
   "metadata": {},
   "outputs": [
    {
     "data": {
      "text/plain": [
       "ï..Serial                0\n",
       "Year                     0\n",
       "Month                    0\n",
       "Hospital                 0\n",
       "Sample                   0\n",
       "                      ... \n",
       "hepatomegalyDays        88\n",
       "SpleenomegalyDays       89\n",
       "LymphadenopathyDays     89\n",
       "NeckstiffnessDays       85\n",
       "anyWaterArea           260\n",
       "Length: 192, dtype: int64"
      ]
     },
     "execution_count": 65,
     "metadata": {},
     "output_type": "execute_result"
    }
   ],
   "source": [
    "test.isna().sum()"
   ]
  },
  {
   "cell_type": "code",
   "execution_count": 66,
   "id": "fcd2f4f5",
   "metadata": {},
   "outputs": [
    {
     "name": "stdout",
     "output_type": "stream",
     "text": [
      "<class 'pandas.core.frame.DataFrame'>\n",
      "RangeIndex: 347 entries, 0 to 346\n",
      "Data columns (total 192 columns):\n",
      " #    Column                                               Dtype   \n",
      "---   ------                                               -----   \n",
      " 0    ï..Serial                                            int64   \n",
      " 1    Year                                                 category\n",
      " 2    Month                                                category\n",
      " 3    Hospital                                             category\n",
      " 4    Sample                                               category\n",
      " 5    ICU                                                  category\n",
      " 6    OPD                                                  category\n",
      " 7    Sex                                                  category\n",
      " 8    Age                                                  float64 \n",
      " 9    Ethnicity                                            category\n",
      " 10   Income                                               float64 \n",
      " 11   Education                                            category\n",
      " 12   TertiaryEducation                                    category\n",
      " 13   Prophylactics                                        category\n",
      " 14   Pasttreatments                                       category\n",
      " 15   Pastantibiotics                                      category\n",
      " 16   Chronicillness                                       category\n",
      " 17   Possibleexposure                                     category\n",
      " 18   Usualdrinkingwatersource                             float64 \n",
      " 19   Usualbathingwatersource                              float64 \n",
      " 20   Sourceofwaterforhousehold                            float64 \n",
      " 21   Garbagedisposalprocedure                             float64 \n",
      " 22   Accumilationofrefusal                                float64 \n",
      " 23   Availabilityofpublicgarbagecollectionprocedure       float64 \n",
      " 24   Homemarshywetland                                    float64 \n",
      " 25   Workplacemarshywet                                   float64 \n",
      " 26   HomeBushes                                           float64 \n",
      " 27   Workplacebushes                                      float64 \n",
      " 28   Homeforest                                           float64 \n",
      " 29   Workplaceforest                                      float64 \n",
      " 30   Homeworkingpaddyfield                                float64 \n",
      " 31   WorkPlaceworkingpaddyfield                           float64 \n",
      " 32   Homeabondantpaddyfield                               float64 \n",
      " 33   Workplaceabondantpaddyfield                          float64 \n",
      " 34   Homeotheragricultural                                float64 \n",
      " 35   workplaceotheragricultural                           float64 \n",
      " 36   Homeanimalfarm                                       float64 \n",
      " 37   Workplaceanimalfarm                                  float64 \n",
      " 38   Homegarbageaccumilation                              float64 \n",
      " 39   Workplacegarbageaccumilation                         float64 \n",
      " 40   Homeblockeddrainage                                  float64 \n",
      " 41   Workplaceblockeddrainage                             float64 \n",
      " 42   Homesewer                                            float64 \n",
      " 43   Workplacesewer                                       float64 \n",
      " 44   Rathome                                              float64 \n",
      " 45   RatWorkplace                                         float64 \n",
      " 46   RatNeighbourhood                                     float64 \n",
      " 47   Cathome                                              float64 \n",
      " 48   Catworkplace                                         float64 \n",
      " 49   CatNeighbourhood                                     float64 \n",
      " 50   Doghome                                              float64 \n",
      " 51   DogWorkplace                                         float64 \n",
      " 52   DogNeighbourhood                                     float64 \n",
      " 53   Cattlehome                                           float64 \n",
      " 54   CattleWorkplace                                      float64 \n",
      " 55   CattleNeighbourhood                                  float64 \n",
      " 56   PigHome                                              float64 \n",
      " 57   PigWorkplace                                         float64 \n",
      " 58   PigNeighbourhood                                     float64 \n",
      " 59   GoatHome                                             float64 \n",
      " 60   GoatWorkplace                                        float64 \n",
      " 61   GoatNeighbourhood                                    float64 \n",
      " 62   Urumeeyahome                                         float64 \n",
      " 63   Urumeeyaworkplace                                    float64 \n",
      " 64   UrimeeyaNeighbourhood                                float64 \n",
      " 65   OtherrhodentsHome                                    float64 \n",
      " 66   Marshlandexposure                                    float64 \n",
      " 67   Wetsoilexposure                                      float64 \n",
      " 68   Floodexposure                                        float64 \n",
      " 69   Forestexposure                                       float64 \n",
      " 70   BushesExposure                                       float64 \n",
      " 71   Otheragriexposure                                    float64 \n",
      " 72   Gardeningexposure                                    float64 \n",
      " 73   Otheroutdoorworkexposure                             float64 \n",
      " 74   Naturalrunningwaterexposure                          float64 \n",
      " 75   Stagnantwaterexposure                                float64 \n",
      " 76   Manmaderunningwaterexposure                          float64 \n",
      " 77   Drainsexposure                                       float64 \n",
      " 78   Otherwaterexposure                                   float64 \n",
      " 79   Paddyfieldexposure                                   float64 \n",
      " 80   Walkingbarefootoutdoor                               float64 \n",
      " 81   CattleHandle                                         float64 \n",
      " 82   BuffaloHandle                                        float64 \n",
      " 83   Goathandle                                           float64 \n",
      " 84   Pighandle                                            float64 \n",
      " 85   Cathandle                                            float64 \n",
      " 86   Doghandle                                            float64 \n",
      " 87   Psychoticsymptomsonset                               category\n",
      " 88   Psychoticsymptomsad                                  category\n",
      " 89   PRad                                                 float64 \n",
      " 90   SBPadd                                               float64 \n",
      " 91   DBPadd                                               float64 \n",
      " 92   Pulserate5                                           float64 \n",
      " 93   Pulserate6                                           float64 \n",
      " 94   Pulserate7                                           float64 \n",
      " 95   SBP4                                                 float64 \n",
      " 96   DBP4                                                 float64 \n",
      " 97   SBP5                                                 float64 \n",
      " 98   DBP5                                                 float64 \n",
      " 99   SBP6                                                 float64 \n",
      " 100  DBP6                                                 float64 \n",
      " 101  WBCcount                                             float64 \n",
      " 102  Ncount                                               float64 \n",
      " 103  N                                                    float64 \n",
      " 104  Lcount                                               float64 \n",
      " 105  L                                                    float64 \n",
      " 106  Plateletcount                                        float64 \n",
      " 107  PCV                                                  float64 \n",
      " 108  RBC                                                  float64 \n",
      " 109  CRP                                                  float64 \n",
      " 110  ESR                                                  float64 \n",
      " 111  Na                                                   float64 \n",
      " 112  K                                                    float64 \n",
      " 113  AST                                                  float64 \n",
      " 114  ALT                                                  float64 \n",
      " 115  T.Bilirubin                                          float64 \n",
      " 116  S.creatinine                                         float64 \n",
      " 117  B.urea                                               float64 \n",
      " 118  WBC_first_day                                        float64 \n",
      " 119  WBCcount4                                            float64 \n",
      " 120  WBCcount5                                            float64 \n",
      " 121  WBCcount6                                            float64 \n",
      " 122  Ncount4                                              float64 \n",
      " 123  Ncount5                                              float64 \n",
      " 124  Ncount6                                              float64 \n",
      " 125  N4                                                   float64 \n",
      " 126  N5                                                   float64 \n",
      " 127  N6                                                   float64 \n",
      " 128  Lcount4                                              float64 \n",
      " 129  Lcount5                                              float64 \n",
      " 130  Lcount6                                              float64 \n",
      " 131  L4                                                   float64 \n",
      " 132  L5                                                   float64 \n",
      " 133  L6                                                   float64 \n",
      " 134  Platelet4                                            float64 \n",
      " 135  Platelet5                                            float64 \n",
      " 136  Platelet6                                            float64 \n",
      " 137  PCV4                                                 float64 \n",
      " 138  PCV5                                                 float64 \n",
      " 139  PCV6                                                 float64 \n",
      " 140  RBC4                                                 float64 \n",
      " 141  RBC5                                                 float64 \n",
      " 142  RBC6                                                 float64 \n",
      " 143  WPqPCRDiagnosis                                      category\n",
      " 144  UrineqPCRDiagnosis                                   float64 \n",
      " 145  CultureqPCRDia                                       float64 \n",
      " 146  SerumqPCRDiagnosis                                   float64 \n",
      " 147  Isolate                                              category\n",
      " 148  MAT_set_1                                            category\n",
      " 149  Acu_L.interrogansserovarBratislavastr.JezBratislava  float64 \n",
      " 150  Acu_L.interrogansserovarAutumnalisstr.AkiyamiA       float64 \n",
      " 151  Acu_L.weiliiserovarCelledonistr.Celledoni            float64 \n",
      " 152  Acu_L.interrogansserovarCanicolastr.Ruebush          float64 \n",
      " 153  Acu_L.interrogansserovarIcterohaemorrhagiaestr.RGA   float64 \n",
      " 154  Acu_L.interrogansserovarMankarsostr.Mankarso         float64 \n",
      " 155  Acu_L.santarosaiserovarGeorgiastr.LT117              float64 \n",
      " 156  Acu_L.santarosaiserovarPyrogenesstr.Salinem          float64 \n",
      " 157  Acu_L.interrogansserovarBataviaestr.VanTienan        float64 \n",
      " 158  Acu_L.interrogansserovarAlexistr.616                 float64 \n",
      " 159  Acu_L.interrogansserovarAustralisstr.Ballico         float64 \n",
      " 160  Acu_L.interrogansserovarwolfiistr.3705               float64 \n",
      " 161  Acu_L.interrogansserovarWeerasinghe                  float64 \n",
      " 162  Acu_Patoc                                            float64 \n",
      " 163  HeadacheDays                                         object  \n",
      " 164  FeverDays                                            object  \n",
      " 165  ChillsDays                                           object  \n",
      " 166  RigorsDays                                           object  \n",
      " 167  MusclepainDays                                       object  \n",
      " 168  MustenderDays                                        object  \n",
      " 169  NauseaDays                                           object  \n",
      " 170  VomitingDays                                         object  \n",
      " 171  ConsufDays                                           object  \n",
      " 172  SkinrashDays                                         object  \n",
      " 173  MucorashDays                                         object  \n",
      " 174  ProstrationDays                                      object  \n",
      " 175  diarrheaDays                                         object  \n",
      " 176  OliguriaDays                                         object  \n",
      " 177  AnuriaDays                                           object  \n",
      " 178  JaundiceDays                                         object  \n",
      " 179  PhotophobiaDays                                      object  \n",
      " 180  ConfusionDays                                        object  \n",
      " 181  CoughDays                                            object  \n",
      " 182  HaemoptysisDays                                      object  \n",
      " 183  SOBDays                                              object  \n",
      " 184  ChestpainDays                                        object  \n",
      " 185  BleedingDays                                         object  \n",
      " 186  hepatictenderDays                                    object  \n",
      " 187  hepatomegalyDays                                     object  \n",
      " 188  SpleenomegalyDays                                    object  \n",
      " 189  LymphadenopathyDays                                  object  \n",
      " 190  NeckstiffnessDays                                    object  \n",
      " 191  anyWaterArea                                         object  \n",
      "dtypes: category(20), float64(142), int64(1), object(29)\n",
      "memory usage: 476.8+ KB\n"
     ]
    }
   ],
   "source": [
    "test.info(all)"
   ]
  },
  {
   "cell_type": "code",
   "execution_count": 67,
   "id": "f81432dc",
   "metadata": {},
   "outputs": [],
   "source": [
    "impute_test= test.copy()\n",
    "\n",
    "impute_test= impute_test.fillna(impute_test.mode().iloc[0])"
   ]
  },
  {
   "cell_type": "code",
   "execution_count": 68,
   "id": "6d3923e3",
   "metadata": {},
   "outputs": [
    {
     "name": "stdout",
     "output_type": "stream",
     "text": [
      "Index([], dtype='object')\n"
     ]
    }
   ],
   "source": [
    "columns_with_missing_values = impute_test.columns[impute_test.isna().any()]\n",
    "\n",
    "print(columns_with_missing_values)"
   ]
  },
  {
   "cell_type": "code",
   "execution_count": 69,
   "id": "a0acb278",
   "metadata": {},
   "outputs": [
    {
     "name": "stdout",
     "output_type": "stream",
     "text": [
      "<class 'pandas.core.frame.DataFrame'>\n",
      "RangeIndex: 347 entries, 0 to 346\n",
      "Data columns (total 192 columns):\n",
      " #    Column                                               Dtype   \n",
      "---   ------                                               -----   \n",
      " 0    ï..Serial                                            int64   \n",
      " 1    Year                                                 category\n",
      " 2    Month                                                category\n",
      " 3    Hospital                                             category\n",
      " 4    Sample                                               category\n",
      " 5    ICU                                                  category\n",
      " 6    OPD                                                  category\n",
      " 7    Sex                                                  category\n",
      " 8    Age                                                  float64 \n",
      " 9    Ethnicity                                            category\n",
      " 10   Income                                               float64 \n",
      " 11   Education                                            category\n",
      " 12   TertiaryEducation                                    category\n",
      " 13   Prophylactics                                        category\n",
      " 14   Pasttreatments                                       category\n",
      " 15   Pastantibiotics                                      category\n",
      " 16   Chronicillness                                       category\n",
      " 17   Possibleexposure                                     category\n",
      " 18   Usualdrinkingwatersource                             float64 \n",
      " 19   Usualbathingwatersource                              float64 \n",
      " 20   Sourceofwaterforhousehold                            float64 \n",
      " 21   Garbagedisposalprocedure                             float64 \n",
      " 22   Accumilationofrefusal                                float64 \n",
      " 23   Availabilityofpublicgarbagecollectionprocedure       float64 \n",
      " 24   Homemarshywetland                                    float64 \n",
      " 25   Workplacemarshywet                                   float64 \n",
      " 26   HomeBushes                                           float64 \n",
      " 27   Workplacebushes                                      float64 \n",
      " 28   Homeforest                                           float64 \n",
      " 29   Workplaceforest                                      float64 \n",
      " 30   Homeworkingpaddyfield                                float64 \n",
      " 31   WorkPlaceworkingpaddyfield                           float64 \n",
      " 32   Homeabondantpaddyfield                               float64 \n",
      " 33   Workplaceabondantpaddyfield                          float64 \n",
      " 34   Homeotheragricultural                                float64 \n",
      " 35   workplaceotheragricultural                           float64 \n",
      " 36   Homeanimalfarm                                       float64 \n",
      " 37   Workplaceanimalfarm                                  float64 \n",
      " 38   Homegarbageaccumilation                              float64 \n",
      " 39   Workplacegarbageaccumilation                         float64 \n",
      " 40   Homeblockeddrainage                                  float64 \n",
      " 41   Workplaceblockeddrainage                             float64 \n",
      " 42   Homesewer                                            float64 \n",
      " 43   Workplacesewer                                       float64 \n",
      " 44   Rathome                                              float64 \n",
      " 45   RatWorkplace                                         float64 \n",
      " 46   RatNeighbourhood                                     float64 \n",
      " 47   Cathome                                              float64 \n",
      " 48   Catworkplace                                         float64 \n",
      " 49   CatNeighbourhood                                     float64 \n",
      " 50   Doghome                                              float64 \n",
      " 51   DogWorkplace                                         float64 \n",
      " 52   DogNeighbourhood                                     float64 \n",
      " 53   Cattlehome                                           float64 \n",
      " 54   CattleWorkplace                                      float64 \n",
      " 55   CattleNeighbourhood                                  float64 \n",
      " 56   PigHome                                              float64 \n",
      " 57   PigWorkplace                                         float64 \n",
      " 58   PigNeighbourhood                                     float64 \n",
      " 59   GoatHome                                             float64 \n",
      " 60   GoatWorkplace                                        float64 \n",
      " 61   GoatNeighbourhood                                    float64 \n",
      " 62   Urumeeyahome                                         float64 \n",
      " 63   Urumeeyaworkplace                                    float64 \n",
      " 64   UrimeeyaNeighbourhood                                float64 \n",
      " 65   OtherrhodentsHome                                    float64 \n",
      " 66   Marshlandexposure                                    float64 \n",
      " 67   Wetsoilexposure                                      float64 \n",
      " 68   Floodexposure                                        float64 \n",
      " 69   Forestexposure                                       float64 \n",
      " 70   BushesExposure                                       float64 \n",
      " 71   Otheragriexposure                                    float64 \n",
      " 72   Gardeningexposure                                    float64 \n",
      " 73   Otheroutdoorworkexposure                             float64 \n",
      " 74   Naturalrunningwaterexposure                          float64 \n",
      " 75   Stagnantwaterexposure                                float64 \n",
      " 76   Manmaderunningwaterexposure                          float64 \n",
      " 77   Drainsexposure                                       float64 \n",
      " 78   Otherwaterexposure                                   float64 \n",
      " 79   Paddyfieldexposure                                   float64 \n",
      " 80   Walkingbarefootoutdoor                               float64 \n",
      " 81   CattleHandle                                         float64 \n",
      " 82   BuffaloHandle                                        float64 \n",
      " 83   Goathandle                                           float64 \n",
      " 84   Pighandle                                            float64 \n",
      " 85   Cathandle                                            float64 \n",
      " 86   Doghandle                                            float64 \n",
      " 87   Psychoticsymptomsonset                               category\n",
      " 88   Psychoticsymptomsad                                  category\n",
      " 89   PRad                                                 float64 \n",
      " 90   SBPadd                                               float64 \n",
      " 91   DBPadd                                               float64 \n",
      " 92   Pulserate5                                           float64 \n",
      " 93   Pulserate6                                           float64 \n",
      " 94   Pulserate7                                           float64 \n",
      " 95   SBP4                                                 float64 \n",
      " 96   DBP4                                                 float64 \n",
      " 97   SBP5                                                 float64 \n",
      " 98   DBP5                                                 float64 \n",
      " 99   SBP6                                                 float64 \n",
      " 100  DBP6                                                 float64 \n",
      " 101  WBCcount                                             float64 \n",
      " 102  Ncount                                               float64 \n",
      " 103  N                                                    float64 \n",
      " 104  Lcount                                               float64 \n",
      " 105  L                                                    float64 \n",
      " 106  Plateletcount                                        float64 \n",
      " 107  PCV                                                  float64 \n",
      " 108  RBC                                                  float64 \n",
      " 109  CRP                                                  float64 \n",
      " 110  ESR                                                  float64 \n",
      " 111  Na                                                   float64 \n",
      " 112  K                                                    float64 \n",
      " 113  AST                                                  float64 \n",
      " 114  ALT                                                  float64 \n",
      " 115  T.Bilirubin                                          float64 \n",
      " 116  S.creatinine                                         float64 \n",
      " 117  B.urea                                               float64 \n",
      " 118  WBC_first_day                                        float64 \n",
      " 119  WBCcount4                                            float64 \n",
      " 120  WBCcount5                                            float64 \n",
      " 121  WBCcount6                                            float64 \n",
      " 122  Ncount4                                              float64 \n",
      " 123  Ncount5                                              float64 \n",
      " 124  Ncount6                                              float64 \n",
      " 125  N4                                                   float64 \n",
      " 126  N5                                                   float64 \n",
      " 127  N6                                                   float64 \n",
      " 128  Lcount4                                              float64 \n",
      " 129  Lcount5                                              float64 \n",
      " 130  Lcount6                                              float64 \n",
      " 131  L4                                                   float64 \n",
      " 132  L5                                                   float64 \n",
      " 133  L6                                                   float64 \n",
      " 134  Platelet4                                            float64 \n",
      " 135  Platelet5                                            float64 \n",
      " 136  Platelet6                                            float64 \n",
      " 137  PCV4                                                 float64 \n",
      " 138  PCV5                                                 float64 \n",
      " 139  PCV6                                                 float64 \n",
      " 140  RBC4                                                 float64 \n",
      " 141  RBC5                                                 float64 \n",
      " 142  RBC6                                                 float64 \n",
      " 143  WPqPCRDiagnosis                                      category\n",
      " 144  UrineqPCRDiagnosis                                   float64 \n",
      " 145  CultureqPCRDia                                       float64 \n",
      " 146  SerumqPCRDiagnosis                                   float64 \n",
      " 147  Isolate                                              category\n",
      " 148  MAT_set_1                                            category\n",
      " 149  Acu_L.interrogansserovarBratislavastr.JezBratislava  float64 \n",
      " 150  Acu_L.interrogansserovarAutumnalisstr.AkiyamiA       float64 \n",
      " 151  Acu_L.weiliiserovarCelledonistr.Celledoni            float64 \n",
      " 152  Acu_L.interrogansserovarCanicolastr.Ruebush          float64 \n",
      " 153  Acu_L.interrogansserovarIcterohaemorrhagiaestr.RGA   float64 \n",
      " 154  Acu_L.interrogansserovarMankarsostr.Mankarso         float64 \n",
      " 155  Acu_L.santarosaiserovarGeorgiastr.LT117              float64 \n",
      " 156  Acu_L.santarosaiserovarPyrogenesstr.Salinem          float64 \n",
      " 157  Acu_L.interrogansserovarBataviaestr.VanTienan        float64 \n",
      " 158  Acu_L.interrogansserovarAlexistr.616                 float64 \n",
      " 159  Acu_L.interrogansserovarAustralisstr.Ballico         float64 \n",
      " 160  Acu_L.interrogansserovarwolfiistr.3705               float64 \n",
      " 161  Acu_L.interrogansserovarWeerasinghe                  float64 \n",
      " 162  Acu_Patoc                                            float64 \n",
      " 163  HeadacheDays                                         int64   \n",
      " 164  FeverDays                                            int64   \n",
      " 165  ChillsDays                                           int64   \n",
      " 166  RigorsDays                                           int64   \n",
      " 167  MusclepainDays                                       int64   \n",
      " 168  MustenderDays                                        int64   \n",
      " 169  NauseaDays                                           int64   \n",
      " 170  VomitingDays                                         int64   \n",
      " 171  ConsufDays                                           int64   \n",
      " 172  SkinrashDays                                         int64   \n",
      " 173  MucorashDays                                         int64   \n",
      " 174  ProstrationDays                                      int64   \n",
      " 175  diarrheaDays                                         int64   \n",
      " 176  OliguriaDays                                         int64   \n",
      " 177  AnuriaDays                                           int64   \n",
      " 178  JaundiceDays                                         int64   \n",
      " 179  PhotophobiaDays                                      int64   \n",
      " 180  ConfusionDays                                        int64   \n",
      " 181  CoughDays                                            int64   \n",
      " 182  HaemoptysisDays                                      int64   \n",
      " 183  SOBDays                                              int64   \n",
      " 184  ChestpainDays                                        int64   \n",
      " 185  BleedingDays                                         int64   \n",
      " 186  hepatictenderDays                                    int64   \n",
      " 187  hepatomegalyDays                                     int64   \n",
      " 188  SpleenomegalyDays                                    int64   \n",
      " 189  LymphadenopathyDays                                  int64   \n",
      " 190  NeckstiffnessDays                                    int64   \n",
      " 191  anyWaterArea                                         int64   \n",
      "dtypes: category(20), float64(142), int64(30)\n",
      "memory usage: 476.8 KB\n"
     ]
    }
   ],
   "source": [
    "impute_test.info(all)"
   ]
  },
  {
   "cell_type": "code",
   "execution_count": 70,
   "id": "5d4bd925-4381-4f29-9b20-6050293660e8",
   "metadata": {},
   "outputs": [
    {
     "name": "stdout",
     "output_type": "stream",
     "text": [
      "[0 1 1 1 0 0 1 1 1 1 1 1 1 1 1 1 1 1 1 1 1 1 1 1 1 1 1 1 1 1 1 1 1 1 1 1 1\n",
      " 1 1 0 0 1 0 1 1 1 1 1 1 1 1 1 1 1 0 0 0 1 1 1 1 1 0 1 1 0 0 0 1 1 1 1 0 1\n",
      " 1 0 1 1 1 1 1 0 1 1 1 1 1 1 1 1 1 1 1 1 1 1 1 0 1 1 1 0 1 1 1 1 0 1 0 1 1\n",
      " 0 1 1 1 1 1 1 0 1 1 1 1 1 1 1 1 1 1 1 1 1 1 1 1 1 1 1 0 1 1 0 1 1 1 1 1 1\n",
      " 0 0 0 1 0 0 0 1 1 1 1 1 1 1 1 1 1 1 1 0 0 0 0 0 0 1 1 1 0 0 0 1 1 1 0 1 1\n",
      " 1 1 1 1 0 0 0 1 1 1 1 0 1 0 1 0 1 0 1 0 0 0 0 0 0 0 0 0 1 0 1 1 1 0 1 1 1\n",
      " 1 0 1 0 1 1 1 1 0 1 1 1 0 0 0 0 0 0 0 1 1 1 0 1 1 1 1 0 0 0 0 0 1 1 1 0 1\n",
      " 1 0 1 1 1 0 0 1 1 1 1 1 0 1 1 0 1 0 0 0 1 1 0 0 1 1 1 1 1 0 1 1 1 1 0 1 0\n",
      " 1 0 0 0 1 1 1 1 1 1 1 1 1 1 0 0 1 1 1 1 1 1 1 0 1 1 1 0 1 0 0 0 0 0 0 1 0\n",
      " 1 1 1 0 1 1 1 1 1 0 0 0 0 0]\n"
     ]
    }
   ],
   "source": [
    "test_pred = ridge_model.predict(impute_test)\n",
    "print(test_pred)"
   ]
  },
  {
   "cell_type": "code",
   "execution_count": 71,
   "id": "eee3c660-bc33-4126-957b-f71262ec0bbc",
   "metadata": {},
   "outputs": [
    {
     "name": "stdout",
     "output_type": "stream",
     "text": [
      "[1 2 2 2 1 1 2 2 2 2 2 2 2 2 2 2 2 2 2 2 2 2 2 2 2 2 2 2 2 2 2 2 2 2 2 2 2\n",
      " 2 2 1 1 2 1 2 2 2 2 2 2 2 2 2 2 2 1 1 1 2 2 2 2 2 1 2 2 1 1 1 2 2 2 2 1 2\n",
      " 2 1 2 2 2 2 2 1 2 2 2 2 2 2 2 2 2 2 2 2 2 2 2 1 2 2 2 1 2 2 2 2 1 2 1 2 2\n",
      " 1 2 2 2 2 2 2 1 2 2 2 2 2 2 2 2 2 2 2 2 2 2 2 2 2 2 2 1 2 2 1 2 2 2 2 2 2\n",
      " 1 1 1 2 1 1 1 2 2 2 2 2 2 2 2 2 2 2 2 1 1 1 1 1 1 2 2 2 1 1 1 2 2 2 1 2 2\n",
      " 2 2 2 2 1 1 1 2 2 2 2 1 2 1 2 1 2 1 2 1 1 1 1 1 1 1 1 1 2 1 2 2 2 1 2 2 2\n",
      " 2 1 2 1 2 2 2 2 1 2 2 2 1 1 1 1 1 1 1 2 2 2 1 2 2 2 2 1 1 1 1 1 2 2 2 1 2\n",
      " 2 1 2 2 2 1 1 2 2 2 2 2 1 2 2 1 2 1 1 1 2 2 1 1 2 2 2 2 2 1 2 2 2 2 1 2 1\n",
      " 2 1 1 1 2 2 2 2 2 2 2 2 2 2 1 1 2 2 2 2 2 2 2 1 2 2 2 1 2 1 1 1 1 1 1 2 1\n",
      " 2 2 2 1 2 2 2 2 2 1 1 1 1 1]\n"
     ]
    }
   ],
   "source": [
    "test_pred = test_pred+1\n",
    "print(test_pred)"
   ]
  },
  {
   "cell_type": "code",
   "execution_count": 72,
   "id": "f223e686-9608-4bd6-8b6d-e214ef25ec13",
   "metadata": {},
   "outputs": [],
   "source": [
    "predictions_df=pd.DataFrame({\n",
    "    'ID': test_data.index+1,\n",
    "    'Final':test_pred\n",
    "})"
   ]
  },
  {
   "cell_type": "code",
   "execution_count": 73,
   "id": "a1ea1574-52f0-424c-9baf-88d7946e0bc3",
   "metadata": {},
   "outputs": [],
   "source": [
    "predictions_df.to_csv('sample_submission1.csv', index=False)"
   ]
  },
  {
   "cell_type": "code",
   "execution_count": 74,
   "id": "4d158865-db9f-45eb-b08f-a3405ef526d9",
   "metadata": {},
   "outputs": [
    {
     "name": "stdout",
     "output_type": "stream",
     "text": [
      "[0 1 1 1 0 1 1 1 1 1 1 1 1 1 1 1 1 1 1 1 1 1 1 1 1 1 1 1 1 1 1 1 1 1 1 1 1\n",
      " 1 1 0 0 1 0 1 1 1 1 1 1 1 1 1 1 1 0 0 0 1 1 1 1 1 0 1 1 0 0 0 1 1 1 1 0 1\n",
      " 1 0 1 1 1 1 1 0 1 1 1 1 1 1 1 1 1 1 1 1 1 1 0 0 1 1 1 0 1 1 1 1 1 1 0 1 1\n",
      " 0 1 0 1 1 1 1 0 1 1 1 1 1 1 1 1 1 1 1 1 0 1 1 1 1 1 1 0 1 1 0 1 1 1 1 1 0\n",
      " 0 0 0 1 0 0 0 1 1 1 1 1 1 1 1 1 1 1 1 0 0 0 0 0 0 1 0 1 0 0 0 1 1 1 0 1 1\n",
      " 1 1 1 1 0 0 0 1 1 1 1 0 1 0 1 0 1 0 1 0 0 0 0 0 0 0 0 0 1 0 1 1 1 1 1 1 1\n",
      " 1 0 1 0 1 1 1 1 0 1 1 1 0 0 0 0 0 0 0 1 1 1 1 1 1 1 1 0 1 0 0 0 1 1 1 0 1\n",
      " 1 0 1 1 1 0 0 1 1 1 1 0 0 1 1 0 1 0 0 0 1 1 0 0 1 1 1 1 1 0 1 1 1 1 0 1 0\n",
      " 1 0 1 0 1 1 1 1 1 1 1 1 1 1 0 0 1 1 1 1 1 1 1 0 1 1 1 0 1 0 0 0 0 0 0 0 0\n",
      " 1 1 0 0 1 1 1 0 1 0 0 1 0 0]\n"
     ]
    }
   ],
   "source": [
    "test_pred = svm.predict(impute_test)\n",
    "print(test_pred)"
   ]
  },
  {
   "cell_type": "code",
   "execution_count": 75,
   "id": "2bdfb932-7150-4613-aa14-558841c0cd7d",
   "metadata": {},
   "outputs": [
    {
     "name": "stdout",
     "output_type": "stream",
     "text": [
      "[1 2 2 2 1 2 2 2 2 2 2 2 2 2 2 2 2 2 2 2 2 2 2 2 2 2 2 2 2 2 2 2 2 2 2 2 2\n",
      " 2 2 1 1 2 1 2 2 2 2 2 2 2 2 2 2 2 1 1 1 2 2 2 2 2 1 2 2 1 1 1 2 2 2 2 1 2\n",
      " 2 1 2 2 2 2 2 1 2 2 2 2 2 2 2 2 2 2 2 2 2 2 1 1 2 2 2 1 2 2 2 2 2 2 1 2 2\n",
      " 1 2 1 2 2 2 2 1 2 2 2 2 2 2 2 2 2 2 2 2 1 2 2 2 2 2 2 1 2 2 1 2 2 2 2 2 1\n",
      " 1 1 1 2 1 1 1 2 2 2 2 2 2 2 2 2 2 2 2 1 1 1 1 1 1 2 1 2 1 1 1 2 2 2 1 2 2\n",
      " 2 2 2 2 1 1 1 2 2 2 2 1 2 1 2 1 2 1 2 1 1 1 1 1 1 1 1 1 2 1 2 2 2 2 2 2 2\n",
      " 2 1 2 1 2 2 2 2 1 2 2 2 1 1 1 1 1 1 1 2 2 2 2 2 2 2 2 1 2 1 1 1 2 2 2 1 2\n",
      " 2 1 2 2 2 1 1 2 2 2 2 1 1 2 2 1 2 1 1 1 2 2 1 1 2 2 2 2 2 1 2 2 2 2 1 2 1\n",
      " 2 1 2 1 2 2 2 2 2 2 2 2 2 2 1 1 2 2 2 2 2 2 2 1 2 2 2 1 2 1 1 1 1 1 1 1 1\n",
      " 2 2 1 1 2 2 2 1 2 1 1 2 1 1]\n"
     ]
    }
   ],
   "source": [
    "test_pred = test_pred+1\n",
    "print(test_pred)"
   ]
  },
  {
   "cell_type": "code",
   "execution_count": 76,
   "id": "177f3849-b321-44e7-be53-a498fe177891",
   "metadata": {},
   "outputs": [],
   "source": [
    "predictions_df=pd.DataFrame({\n",
    "    'ID': test_data.index+1,\n",
    "    'Final':test_pred\n",
    "})"
   ]
  },
  {
   "cell_type": "code",
   "execution_count": 77,
   "id": "9e192a45-096d-4b22-839a-3c565b12c426",
   "metadata": {},
   "outputs": [],
   "source": [
    "predictions_df.to_csv('sample_submission2.csv', index=False)"
   ]
  },
  {
   "cell_type": "markdown",
   "id": "c8afe4d5",
   "metadata": {},
   "source": [
    "## prediction"
   ]
  },
  {
   "cell_type": "code",
   "execution_count": 78,
   "id": "943b9f8d",
   "metadata": {},
   "outputs": [
    {
     "name": "stdout",
     "output_type": "stream",
     "text": [
      "[0 1 1 1 0 1 1 1 1 1 1 1 1 1 1 1 1 1 1 1 1 1 1 1 1 1 1 1 1 1 1 1 1 1 1 1 1\n",
      " 1 1 0 0 1 0 1 1 1 1 1 1 1 1 1 1 1 0 0 0 1 1 1 1 1 0 1 1 0 0 0 1 1 1 1 0 1\n",
      " 1 0 1 1 1 1 1 0 1 1 1 1 1 1 1 1 1 1 1 1 1 1 1 1 1 1 1 1 1 1 1 1 1 1 1 1 1\n",
      " 0 1 1 1 1 1 1 0 1 1 0 1 1 0 1 1 1 1 1 1 1 1 1 1 1 1 1 0 1 1 0 1 1 1 1 1 0\n",
      " 0 0 0 1 0 0 0 1 1 1 1 1 1 1 1 1 1 1 1 0 0 0 0 0 0 1 1 1 0 0 0 1 1 1 0 1 1\n",
      " 1 1 1 1 0 0 0 1 1 1 1 0 1 0 1 0 1 0 1 0 0 0 0 0 0 0 0 0 1 0 1 1 1 1 1 1 1\n",
      " 1 0 1 1 1 1 1 1 0 1 1 1 0 0 0 0 0 0 0 1 1 1 1 1 1 1 1 0 1 0 0 0 1 1 1 0 1\n",
      " 1 0 1 1 1 0 0 1 1 1 1 0 0 1 1 0 1 0 0 0 1 1 0 0 1 1 1 1 1 0 1 1 1 1 0 1 0\n",
      " 1 0 1 0 1 1 1 1 1 1 1 1 1 1 0 0 1 1 1 1 1 1 1 1 1 1 0 0 0 0 0 0 0 0 0 0 1\n",
      " 0 1 1 0 1 1 1 1 1 0 1 1 0 1]\n"
     ]
    }
   ],
   "source": [
    "test_pred = rf_classifier.predict(impute_test)\n",
    "print(test_pred)"
   ]
  },
  {
   "cell_type": "code",
   "execution_count": 79,
   "id": "5b0f9738",
   "metadata": {},
   "outputs": [
    {
     "name": "stdout",
     "output_type": "stream",
     "text": [
      "[1 2 2 2 1 2 2 2 2 2 2 2 2 2 2 2 2 2 2 2 2 2 2 2 2 2 2 2 2 2 2 2 2 2 2 2 2\n",
      " 2 2 1 1 2 1 2 2 2 2 2 2 2 2 2 2 2 1 1 1 2 2 2 2 2 1 2 2 1 1 1 2 2 2 2 1 2\n",
      " 2 1 2 2 2 2 2 1 2 2 2 2 2 2 2 2 2 2 2 2 2 2 2 2 2 2 2 2 2 2 2 2 2 2 2 2 2\n",
      " 1 2 2 2 2 2 2 1 2 2 1 2 2 1 2 2 2 2 2 2 2 2 2 2 2 2 2 1 2 2 1 2 2 2 2 2 1\n",
      " 1 1 1 2 1 1 1 2 2 2 2 2 2 2 2 2 2 2 2 1 1 1 1 1 1 2 2 2 1 1 1 2 2 2 1 2 2\n",
      " 2 2 2 2 1 1 1 2 2 2 2 1 2 1 2 1 2 1 2 1 1 1 1 1 1 1 1 1 2 1 2 2 2 2 2 2 2\n",
      " 2 1 2 2 2 2 2 2 1 2 2 2 1 1 1 1 1 1 1 2 2 2 2 2 2 2 2 1 2 1 1 1 2 2 2 1 2\n",
      " 2 1 2 2 2 1 1 2 2 2 2 1 1 2 2 1 2 1 1 1 2 2 1 1 2 2 2 2 2 1 2 2 2 2 1 2 1\n",
      " 2 1 2 1 2 2 2 2 2 2 2 2 2 2 1 1 2 2 2 2 2 2 2 2 2 2 1 1 1 1 1 1 1 1 1 1 2\n",
      " 1 2 2 1 2 2 2 2 2 1 2 2 1 2]\n"
     ]
    }
   ],
   "source": [
    "test_pred = test_pred+1\n",
    "print(test_pred)"
   ]
  },
  {
   "cell_type": "code",
   "execution_count": 80,
   "id": "7f4fcb65",
   "metadata": {},
   "outputs": [
    {
     "ename": "KeyError",
     "evalue": "'ID'",
     "output_type": "error",
     "traceback": [
      "\u001b[1;31m---------------------------------------------------------------------------\u001b[0m",
      "\u001b[1;31mKeyError\u001b[0m                                  Traceback (most recent call last)",
      "File \u001b[1;32m~\\anaconda3\\Lib\\site-packages\\pandas\\core\\indexes\\base.py:3791\u001b[0m, in \u001b[0;36mIndex.get_loc\u001b[1;34m(self, key)\u001b[0m\n\u001b[0;32m   3790\u001b[0m \u001b[38;5;28;01mtry\u001b[39;00m:\n\u001b[1;32m-> 3791\u001b[0m     \u001b[38;5;28;01mreturn\u001b[39;00m \u001b[38;5;28mself\u001b[39m\u001b[38;5;241m.\u001b[39m_engine\u001b[38;5;241m.\u001b[39mget_loc(casted_key)\n\u001b[0;32m   3792\u001b[0m \u001b[38;5;28;01mexcept\u001b[39;00m \u001b[38;5;167;01mKeyError\u001b[39;00m \u001b[38;5;28;01mas\u001b[39;00m err:\n",
      "File \u001b[1;32mindex.pyx:152\u001b[0m, in \u001b[0;36mpandas._libs.index.IndexEngine.get_loc\u001b[1;34m()\u001b[0m\n",
      "File \u001b[1;32mindex.pyx:181\u001b[0m, in \u001b[0;36mpandas._libs.index.IndexEngine.get_loc\u001b[1;34m()\u001b[0m\n",
      "File \u001b[1;32mpandas\\_libs\\hashtable_class_helper.pxi:7080\u001b[0m, in \u001b[0;36mpandas._libs.hashtable.PyObjectHashTable.get_item\u001b[1;34m()\u001b[0m\n",
      "File \u001b[1;32mpandas\\_libs\\hashtable_class_helper.pxi:7088\u001b[0m, in \u001b[0;36mpandas._libs.hashtable.PyObjectHashTable.get_item\u001b[1;34m()\u001b[0m\n",
      "\u001b[1;31mKeyError\u001b[0m: 'ID'",
      "\nThe above exception was the direct cause of the following exception:\n",
      "\u001b[1;31mKeyError\u001b[0m                                  Traceback (most recent call last)",
      "Cell \u001b[1;32mIn[80], line 2\u001b[0m\n\u001b[0;32m      1\u001b[0m predictions_df\u001b[38;5;241m=\u001b[39mpd\u001b[38;5;241m.\u001b[39mDataFrame({\n\u001b[1;32m----> 2\u001b[0m     \u001b[38;5;124m'\u001b[39m\u001b[38;5;124mID\u001b[39m\u001b[38;5;124m'\u001b[39m: test_data[\u001b[38;5;124m'\u001b[39m\u001b[38;5;124mID\u001b[39m\u001b[38;5;124m'\u001b[39m],\n\u001b[0;32m      3\u001b[0m     \u001b[38;5;124m'\u001b[39m\u001b[38;5;124mFinal\u001b[39m\u001b[38;5;124m'\u001b[39m:test_pred\n\u001b[0;32m      4\u001b[0m })\n",
      "File \u001b[1;32m~\\anaconda3\\Lib\\site-packages\\pandas\\core\\frame.py:3893\u001b[0m, in \u001b[0;36mDataFrame.__getitem__\u001b[1;34m(self, key)\u001b[0m\n\u001b[0;32m   3891\u001b[0m \u001b[38;5;28;01mif\u001b[39;00m \u001b[38;5;28mself\u001b[39m\u001b[38;5;241m.\u001b[39mcolumns\u001b[38;5;241m.\u001b[39mnlevels \u001b[38;5;241m>\u001b[39m \u001b[38;5;241m1\u001b[39m:\n\u001b[0;32m   3892\u001b[0m     \u001b[38;5;28;01mreturn\u001b[39;00m \u001b[38;5;28mself\u001b[39m\u001b[38;5;241m.\u001b[39m_getitem_multilevel(key)\n\u001b[1;32m-> 3893\u001b[0m indexer \u001b[38;5;241m=\u001b[39m \u001b[38;5;28mself\u001b[39m\u001b[38;5;241m.\u001b[39mcolumns\u001b[38;5;241m.\u001b[39mget_loc(key)\n\u001b[0;32m   3894\u001b[0m \u001b[38;5;28;01mif\u001b[39;00m is_integer(indexer):\n\u001b[0;32m   3895\u001b[0m     indexer \u001b[38;5;241m=\u001b[39m [indexer]\n",
      "File \u001b[1;32m~\\anaconda3\\Lib\\site-packages\\pandas\\core\\indexes\\base.py:3798\u001b[0m, in \u001b[0;36mIndex.get_loc\u001b[1;34m(self, key)\u001b[0m\n\u001b[0;32m   3793\u001b[0m     \u001b[38;5;28;01mif\u001b[39;00m \u001b[38;5;28misinstance\u001b[39m(casted_key, \u001b[38;5;28mslice\u001b[39m) \u001b[38;5;129;01mor\u001b[39;00m (\n\u001b[0;32m   3794\u001b[0m         \u001b[38;5;28misinstance\u001b[39m(casted_key, abc\u001b[38;5;241m.\u001b[39mIterable)\n\u001b[0;32m   3795\u001b[0m         \u001b[38;5;129;01mand\u001b[39;00m \u001b[38;5;28many\u001b[39m(\u001b[38;5;28misinstance\u001b[39m(x, \u001b[38;5;28mslice\u001b[39m) \u001b[38;5;28;01mfor\u001b[39;00m x \u001b[38;5;129;01min\u001b[39;00m casted_key)\n\u001b[0;32m   3796\u001b[0m     ):\n\u001b[0;32m   3797\u001b[0m         \u001b[38;5;28;01mraise\u001b[39;00m InvalidIndexError(key)\n\u001b[1;32m-> 3798\u001b[0m     \u001b[38;5;28;01mraise\u001b[39;00m \u001b[38;5;167;01mKeyError\u001b[39;00m(key) \u001b[38;5;28;01mfrom\u001b[39;00m \u001b[38;5;21;01merr\u001b[39;00m\n\u001b[0;32m   3799\u001b[0m \u001b[38;5;28;01mexcept\u001b[39;00m \u001b[38;5;167;01mTypeError\u001b[39;00m:\n\u001b[0;32m   3800\u001b[0m     \u001b[38;5;66;03m# If we have a listlike key, _check_indexing_error will raise\u001b[39;00m\n\u001b[0;32m   3801\u001b[0m     \u001b[38;5;66;03m#  InvalidIndexError. Otherwise we fall through and re-raise\u001b[39;00m\n\u001b[0;32m   3802\u001b[0m     \u001b[38;5;66;03m#  the TypeError.\u001b[39;00m\n\u001b[0;32m   3803\u001b[0m     \u001b[38;5;28mself\u001b[39m\u001b[38;5;241m.\u001b[39m_check_indexing_error(key)\n",
      "\u001b[1;31mKeyError\u001b[0m: 'ID'"
     ]
    }
   ],
   "source": [
    "predictions_df=pd.DataFrame({\n",
    "    'ID': test_data['ID'],\n",
    "    'Final':test_pred\n",
    "})"
   ]
  },
  {
   "cell_type": "code",
   "execution_count": 81,
   "id": "52eeb7cf",
   "metadata": {},
   "outputs": [],
   "source": [
    "predictions_df.to_csv('sample_submission.csv', index=False)"
   ]
  },
  {
   "cell_type": "code",
   "execution_count": null,
   "id": "098bb03d",
   "metadata": {},
   "outputs": [],
   "source": []
  },
  {
   "cell_type": "code",
   "execution_count": null,
   "id": "461ea74b-0bdf-4f06-a37a-ff895dd6b35d",
   "metadata": {},
   "outputs": [],
   "source": []
  }
 ],
 "metadata": {
  "kernelspec": {
   "display_name": "Python 3 (ipykernel)",
   "language": "python",
   "name": "python3"
  },
  "language_info": {
   "codemirror_mode": {
    "name": "ipython",
    "version": 3
   },
   "file_extension": ".py",
   "mimetype": "text/x-python",
   "name": "python",
   "nbconvert_exporter": "python",
   "pygments_lexer": "ipython3",
   "version": "3.11.5"
  }
 },
 "nbformat": 4,
 "nbformat_minor": 5
}
